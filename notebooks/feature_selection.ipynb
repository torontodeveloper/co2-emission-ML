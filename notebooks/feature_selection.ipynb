{
 "cells": [
  {
   "cell_type": "code",
   "execution_count": null,
   "outputs": [],
   "source": [
    "import pandas as pd\n",
    "from src.pipeline.select_features import get_feature_importance\n",
    "from src.pipeline.pipeline import pipeline\n",
    "from src.data.get_dataset import get_merged_datasets\n",
    "# get merged dataframe\n",
    "dataframe = get_merged_datasets()\n",
    "# Remove feature we do not want to use.\n",
    "dataframe.drop(columns=['year','country','iso_code'], inplace=True)"
   ],
   "metadata": {
    "collapsed": false
   }
  },
  {
   "cell_type": "markdown",
   "source": [
    "## Transform data and perform test train split"
   ],
   "metadata": {
    "collapsed": false,
    "pycharm": {
     "name": "#%% md\n"
    }
   }
  },
  {
   "cell_type": "code",
   "execution_count": null,
   "outputs": [],
   "source": [
    "x_train, x_test, y_train, y_test, feature_list = pipeline(dataframe)"
   ],
   "metadata": {
    "collapsed": false,
    "pycharm": {
     "name": "#%%\n"
    }
   }
  },
  {
   "cell_type": "code",
   "execution_count": null,
   "outputs": [],
   "source": [
    "feature_importance_linear = get_feature_importance(x_train, y_train,\n",
    "                                                   feature_list, type=\"Linear\")\n",
    "feature_importance_forest = get_feature_importance(x_train, y_train,\n",
    "                                                   feature_list,type=\"RandomForest\")\n",
    "feature_importance_tree = get_feature_importance(x_train, y_train,\n",
    "                                                 feature_list,\n",
    "                                                 type=\"Tree\")\n",
    "\n",
    "feature_importance = pd.merge(feature_importance_linear, feature_importance_tree, left_index=True, right_index=True, how='inner',\n",
    "                              suffixes=(\"_linear\", \"_tree\"))\n",
    "feature_importance = pd.merge(feature_importance, feature_importance_forest, left_index=True, right_index=True, how='inner')\n",
    "feature_importance.rename(columns={'Importance':'Importance_forest'}, inplace=True)"
   ],
   "metadata": {
    "collapsed": false,
    "pycharm": {
     "name": "#%%\n"
    }
   }
  },
  {
   "cell_type": "code",
   "execution_count": null,
   "outputs": [],
   "source": [
    "feature_list = sorted(feature_importance.index.to_list())"
   ],
   "metadata": {
    "collapsed": false,
    "pycharm": {
     "name": "#%%\n"
    }
   }
  },
  {
   "cell_type": "markdown",
   "source": [],
   "metadata": {
    "collapsed": false,
    "pycharm": {
     "name": "#%% md\n"
    }
   }
  },
  {
   "cell_type": "markdown",
   "source": [
    "## Scale feature importance"
   ],
   "metadata": {
    "collapsed": false,
    "pycharm": {
     "name": "#%% md\n"
    }
   }
  },
  {
   "cell_type": "code",
   "execution_count": null,
   "outputs": [],
   "source": [
    "from sklearn.preprocessing import MinMaxScaler\n",
    "\n",
    "scalar = MinMaxScaler()\n",
    "feature_importance_abs = feature_importance.abs()\n",
    "scalar.fit(feature_importance_abs)\n",
    "feature_importance_abs_scaled = scalar.transform(feature_importance_abs)\n",
    "feature_importance_abs_scaled = pd.DataFrame(feature_importance_abs_scaled,\n",
    "                                             index=feature_importance_abs.index,\n",
    "                                             columns=feature_importance_abs.columns)\n",
    "feature_importance_abs_scaled"
   ],
   "metadata": {
    "collapsed": false,
    "pycharm": {
     "name": "#%%\n"
    }
   }
  },
  {
   "cell_type": "markdown",
   "source": [
    "## Choosing feature importance by scaled abs value"
   ],
   "metadata": {
    "collapsed": false,
    "pycharm": {
     "name": "#%% md\n"
    }
   }
  },
  {
   "cell_type": "code",
   "execution_count": null,
   "outputs": [],
   "source": [
    "import matplotlib.pyplot as plt\n",
    "# Set cut off value\n",
    "suggested_cut_off = 0.05\n",
    "\n",
    "plot = feature_importance_abs_scaled.plot(kind='bar', figsize=(40,20))\n",
    "plot.hlines(suggested_cut_off,linewidth=2, xmin=0, xmax=len(feature_list), color='r')\n",
    "plt.savefig('Feature_selection.png')"
   ],
   "metadata": {
    "collapsed": false,
    "pycharm": {
     "name": "#%%\n"
    }
   }
  },
  {
   "cell_type": "markdown",
   "source": [
    "Inspect cutoff Value in saved fig. This seems reasonable.\n",
    "\n",
    "### Get set of Selected features"
   ],
   "metadata": {
    "collapsed": false,
    "pycharm": {
     "name": "#%% md\n"
    }
   }
  },
  {
   "cell_type": "code",
   "execution_count": null,
   "outputs": [],
   "source": [
    "linear_top = feature_importance_abs_scaled.index[feature_importance_abs_scaled.Importance_linear>=suggested_cut_off].tolist()\n",
    "tree_top = feature_importance_abs_scaled.index[feature_importance_abs_scaled.Importance_tree>=suggested_cut_off].tolist()\n",
    "forest_top = feature_importance_abs_scaled.index[feature_importance_abs_scaled.Importance_forest>=suggested_cut_off].tolist()\n",
    "top_features = linear_top+tree_top+forest_top\n",
    "top_features = set(top_features)\n",
    "len(top_features)"
   ],
   "metadata": {
    "collapsed": false,
    "pycharm": {
     "name": "#%%\n"
    }
   }
  },
  {
   "cell_type": "markdown",
   "source": [],
   "metadata": {
    "collapsed": false,
    "pycharm": {
     "name": "#%% md\n"
    }
   }
  },
  {
   "cell_type": "code",
   "execution_count": null,
   "outputs": [],
   "source": [
    "from sklearn.linear_model import LinearRegression, Lasso, Ridge\n",
    "from sklearn.tree import DecisionTreeRegressor\n",
    "from sklearn.ensemble import RandomForestRegressor\n",
    "\n",
    "linear_model = LinearRegression()\n",
    "lasso_model = Lasso(random_state=42)\n",
    "ridge_model = Ridge(random_state=42)\n",
    "dec_tree_model = DecisionTreeRegressor(random_state=42)\n",
    "random_forest_model = RandomForestRegressor(random_state=42)\n",
    "models = [linear_model, lasso_model, ridge_model, dec_tree_model, random_forest_model]\n",
    "x_train = x_train[list(top_features)]\n",
    "x_test = x_test[list(top_features)]\n",
    "for m in models:\n",
    "    m.fit(x_train, y_train)"
   ],
   "metadata": {
    "collapsed": false,
    "pycharm": {
     "name": "#%%\n"
    }
   }
  },
  {
   "cell_type": "code",
   "execution_count": null,
   "outputs": [],
   "source": [
    "from sklearn.metrics import  mean_squared_error, r2_score, mean_absolute_error\n",
    "from src.models.predict_model import  adjusted_r2\n",
    "training_predictions = [m.predict(x_train) for m in models]\n",
    "mean_sq_errors = [mean_squared_error(y_train, y) for y in training_predictions]\n",
    "r2_scores = [r2_score(y_train, y) for y in training_predictions]\n",
    "adj_r2_scores = [adjusted_r2(score, len(x_train),len(x_train.columns)) for score in r2_scores]\n",
    "mean_absolute_errors = [mean_absolute_error(y_train, y) for y in training_predictions]\n",
    "print(\"Train data scores\")\n",
    "[print(f\" {model.__class__.__name__}:, Adjusted R2 score: {adj_r2_scores[i]}, Mean absolute Error: {mean_absolute_errors[i]}\") for i, model in enumerate(models)]"
   ],
   "metadata": {
    "collapsed": false,
    "pycharm": {
     "name": "#%%\n"
    }
   }
  },
  {
   "cell_type": "code",
   "execution_count": null,
   "outputs": [],
   "source": [
    "from sklearn.metrics import  mean_squared_error, r2_score, mean_absolute_error\n",
    "from src.models.predict_model import  adjusted_r2\n",
    "predictions = [m.predict(x_test) for m in models]\n",
    "mean_sq_errors = [mean_squared_error(y_test, y) for y in predictions]\n",
    "r2_scores = [r2_score(y_test, y) for y in predictions]\n",
    "adj_r2_scores = [adjusted_r2(score, len(x_test),len(x_test.columns)) for score in r2_scores]\n",
    "mean_absolute_errors = [mean_absolute_error(y_test, y) for y in predictions]\n",
    "print(\"Test data scores\")\n",
    "[print(f\" {model.__class__.__name__}:, Adjusted R2 score: {adj_r2_scores[i]}, Mean absolute Error: {mean_absolute_errors[i]}\") for i, model in enumerate(models)]"
   ],
   "metadata": {
    "collapsed": false,
    "pycharm": {
     "name": "#%%\n"
    }
   }
  },
  {
   "cell_type": "code",
   "execution_count": null,
   "outputs": [],
   "source": [
    "from sklearn.model_selection import GridSearchCV\n",
    "\n",
    "best_params_records = []\n",
    "grid = {'fit_intercept':[True, False]}\n",
    "CV_lin = GridSearchCV(estimator=linear_model, param_grid=grid, cv=5, scoring='neg_median_absolute_error', n_jobs=-1)\n",
    "CV_lin.fit(x_train, y_train)\n",
    "best_params_records.append({'model': 'linear regression', **CV_lin.best_params_})\n",
    "\n",
    "grid = {'alpha': [0.1,2], 'max_iter': [100, 2000], 'tol': [0.01, 0.0001]}\n",
    "CV_lasso = GridSearchCV(estimator=lasso_model, param_grid=grid, cv=5, scoring='neg_median_absolute_error', n_jobs=-1)\n",
    "CV_lasso.fit(x_train, y_train)\n",
    "best_params_records.append({'model': 'lesso', **CV_lasso.best_params_})\n",
    "CV_ridge = GridSearchCV(estimator=ridge_model, param_grid=grid, cv=5, scoring='neg_median_absolute_error', n_jobs=-1)\n",
    "CV_ridge.fit(x_train, y_train)\n",
    "best_params_records.append({'model': 'ridge', **CV_ridge.best_params_})"
   ],
   "metadata": {
    "collapsed": false
   }
  },
  {
   "cell_type": "code",
   "execution_count": null,
   "outputs": [],
   "source": [
    "grid = {'n_estimators': [100,200,500,1000],\n",
    "               'max_features': ['sqrt', 'log2'],\n",
    "               'max_depth': [10,20,50,100],\n",
    "               'min_samples_split': [2, 5, 10],\n",
    "               'min_samples_leaf': [1, 2, 4],\n",
    "               'bootstrap': [True, False]}\n",
    "\n",
    "CV_forest = GridSearchCV(estimator=random_forest_model, param_grid=grid, cv=5, scoring='neg_median_absolute_error', n_jobs=-1)\n",
    "CV_forest.fit(x_train, y_train)\n",
    "best_params_records.append({'model': 'Forest', **CV_forest.best_params_})"
   ],
   "metadata": {
    "collapsed": false
   }
  },
  {
   "cell_type": "code",
   "execution_count": null,
   "outputs": [],
   "source": [
    "grid = {'max_features': ['auto', 'sqrt', 'log2'],\n",
    "               'max_depth': [10,20,50,100],\n",
    "               'min_samples_split': [2, 5, 10],\n",
    "               'min_samples_leaf': [1, 2, 4]}\n",
    "\n",
    "CV_tree = GridSearchCV(estimator=dec_tree_model, param_grid=grid, cv=5, scoring='neg_median_absolute_error', n_jobs=-1)\n",
    "CV_tree.fit(x_train, y_train)\n",
    "best_params_records.append({'model': 'Tree', **CV_tree.best_params_})\n",
    "best_hyper_params = pd.DataFrame.from_records(best_params_records)\n",
    "best_hyper_params"
   ],
   "metadata": {
    "collapsed": false
   }
  },
  {
   "cell_type": "code",
   "execution_count": null,
   "outputs": [],
   "source": [
    "random_forest_preds = [4]\n",
    "#Seems like random forest performs the best\n",
    "\n",
    "import matplotlib.pyplot as plt\n",
    "\n",
    "# Plotting predicted vs actual values\n",
    "plt.figure(figsize=(6, 6))\n",
    "plt.scatter(y_test, random_forest_preds, alpha=0.5)\n",
    "plt.xlabel('Actual CO2 Values')\n",
    "plt.ylabel('Predicted CO2 Values')\n",
    "plt.title('Predicted vs Actual CO2 Values')\n",
    "plt.show()"
   ],
   "metadata": {
    "collapsed": false,
    "pycharm": {
     "name": "#%%\n"
    }
   }
  },
  {
   "cell_type": "code",
   "execution_count": null,
   "outputs": [],
   "source": [
    "# Assuming you have your actual and predicted values as follows:\n",
    "actual_values = y_test\n",
    "predicted_values = random_forest_preds\n",
    "\n",
    "# Calculate residuals\n",
    "residuals = actual_values - predicted_values\n",
    "\n",
    "# Plotting the residuals\n",
    "plt.figure(figsize=(20, 12))\n",
    "plt.scatter(predicted_values, residuals, alpha=0.5)\n",
    "plt.title('Residuals vs Predicted Values')\n",
    "plt.xlabel('Predicted CO2 Values')\n",
    "plt.ylabel('Residuals')\n",
    "plt.axhline(y=0, color='r', linestyle=':')  # Adds a horizontal line at zero\n",
    "plt.show()"
   ],
   "metadata": {
    "collapsed": false,
    "pycharm": {
     "name": "#%%\n"
    }
   }
  },
  {
   "cell_type": "markdown",
   "source": [
    "## Ensmble Modelling via Voting Regressor"
   ],
   "metadata": {
    "collapsed": false
   }
  },
  {
   "cell_type": "code",
   "execution_count": null,
   "outputs": [],
   "source": [
    "from sklearn.ensemble import VotingRegressor\n"
   ],
   "metadata": {
    "collapsed": false
   }
  }
 ],
 "metadata": {
  "kernelspec": {
   "display_name": "Python 3",
   "language": "python",
   "name": "python3"
  },
  "language_info": {
   "codemirror_mode": {
    "name": "ipython",
    "version": 2
   },
   "file_extension": ".py",
   "mimetype": "text/x-python",
   "name": "python",
   "nbconvert_exporter": "python",
   "pygments_lexer": "ipython2",
   "version": "2.7.6"
  }
 },
 "nbformat": 4,
 "nbformat_minor": 5
}
