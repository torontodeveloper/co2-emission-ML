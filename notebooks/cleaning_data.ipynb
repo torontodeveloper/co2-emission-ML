{
 "cells": [
  {
   "cell_type": "code",
   "execution_count": 73,
   "outputs": [
    {
     "data": {
      "text/plain": "(3104, 204)"
     },
     "execution_count": 73,
     "metadata": {},
     "output_type": "execute_result"
    }
   ],
   "source": [
    "from src.data.get_dataset import get_merged_datasets\n",
    "dataframe = get_merged_datasets()\n",
    "\n",
    "dataframe.shape"
   ],
   "metadata": {
    "collapsed": false,
    "ExecuteTime": {
     "end_time": "2023-12-01T22:10:27.595717Z",
     "start_time": "2023-12-01T22:10:22.775492Z"
    }
   }
  },
  {
   "cell_type": "code",
   "execution_count": 74,
   "outputs": [
    {
     "name": "stdout",
     "output_type": "stream",
     "text": [
      "['agricultural_land_area_in_hectares', 'biofuel_cons_per_capita', 'biofuel_consumption', 'biofuel_elec_per_capita', 'biofuel_electricity', 'biofuel_share_elec', 'biofuel_share_energy', 'carbon_intensity_elec', 'coal_cons_per_capita', 'coal_consumption', 'coal_elec_per_capita', 'coal_electricity', 'coal_prod_per_capita', 'coal_production', 'coal_share_elec', 'coal_share_energy', 'cropland_area_in_hectares', 'electricity_demand', 'electricity_generation', 'electricity_share_energy', 'energy_per_capita', 'energy_per_gdp', 'forest_land_area_in_hectares', 'fossil_elec_per_capita', 'fossil_electricity', 'fossil_energy_per_capita', 'fossil_fuel_consumption', 'fossil_share_elec', 'fossil_share_energy', 'gas_consumption', 'gas_elec_per_capita', 'gas_electricity', 'gas_energy_per_capita', 'gas_prod_per_capita', 'gas_production', 'gas_share_elec', 'gas_share_energy', 'gdp', 'hydro_consumption', 'hydro_elec_per_capita', 'hydro_electricity', 'hydro_energy_per_capita', 'hydro_share_elec', 'hydro_share_energy', 'low_carbon_consumption', 'low_carbon_elec_per_capita', 'low_carbon_electricity', 'low_carbon_energy_per_capita', 'low_carbon_share_elec', 'low_carbon_share_energy', 'median_age', 'methane', 'methane_per_capita', 'net_elec_imports', 'net_elec_imports_share_demand', 'nitrous_oxide', 'nitrous_oxide_per_capita', 'nuclear_consumption', 'nuclear_elec_per_capita', 'nuclear_electricity', 'nuclear_energy_per_capita', 'nuclear_share_elec', 'nuclear_share_energy', 'oil_consumption', 'oil_elec_per_capita', 'oil_electricity', 'oil_energy_per_capita', 'oil_prod_per_capita', 'oil_production', 'oil_share_elec', 'oil_share_energy', 'other_renewable_consumption', 'other_renewable_electricity', 'other_renewable_exc_biofuel_electricity', 'other_renewables_elec_per_capita', 'other_renewables_elec_per_capita_exc_biofuel', 'other_renewables_energy_per_capita', 'other_renewables_share_elec', 'other_renewables_share_elec_exc_biofuel', 'other_renewables_share_energy', 'per_capita_electricity', 'population', 'primary_energy_consumption', 'renewables_consumption', 'renewables_elec_per_capita', 'renewables_electricity', 'renewables_energy_per_capita', 'renewables_share_elec', 'renewables_share_energy', 'solar_consumption', 'solar_elec_per_capita', 'solar_electricity', 'solar_energy_per_capita', 'solar_share_elec', 'solar_share_energy', 'wind_consumption', 'wind_elec_per_capita', 'wind_electricity', 'wind_energy_per_capita', 'wind_share_elec', 'wind_share_energy']\n"
     ]
    }
   ],
   "source": [
    "numeric_cols = dataframe.select_dtypes(include=['number']).columns.difference(['year']).tolist() #we don't want year to be a feature in our prediction model\n",
    "#we want to limit our feature set to columns without any data leaks, since in real prediction we wouldn't know those values.\n",
    "data_leak_list = [\"co2\", \"ghg\", \"greenhouse_gas\",  \"change\"]\n",
    "possible_data_leak_list = [\"nitrous_oxide\", \"methane\", \"ch4\", \"n2o\"]\n",
    "to_exclude = data_leak_list + possible_data_leak_list\n",
    "\n",
    "def is_data_leak(s, to_exclude):\n",
    "    for data_leak in to_exclude:\n",
    "        if data_leak in s:\n",
    "            return True\n",
    "\n",
    "    return False\n",
    "\n",
    "feature_list = []\n",
    "for x in numeric_cols:\n",
    "    is_leak = is_data_leak(x, data_leak_list)\n",
    "    if not is_leak:\n",
    "        feature_list.append(x)\n",
    "\n",
    "\n",
    "print(feature_list)"
   ],
   "metadata": {
    "collapsed": false,
    "pycharm": {
     "name": "#%%\n"
    }
   }
  },
  {
   "cell_type": "code",
   "execution_count": 75,
   "outputs": [
    {
     "data": {
      "text/plain": "co2                           1.000000\nfossil_fuel_consumption       0.992006\nfossil_electricity            0.990423\nprimary_energy_consumption    0.987311\nelectricity_generation        0.979749\n                                ...   \nhydro_share_elec             -0.112958\nrenewables_share_elec        -0.115668\noil_share_elec               -0.146162\nnuclear_share_energy         -0.164512\noil_share_energy             -0.173952\nName: co2, Length: 102, dtype: float64"
     },
     "execution_count": 75,
     "metadata": {},
     "output_type": "execute_result"
    }
   ],
   "source": [
    "#checking correlations between various features and co2 data\n",
    "dataframe[feature_list + ['co2']].corr()['co2'].sort_values(ascending=False) #Reduced feature list to 97, need to check if any of these are unrelated. "
   ],
   "metadata": {
    "collapsed": false,
    "pycharm": {
     "name": "#%%\n"
    }
   }
  },
  {
   "cell_type": "code",
   "execution_count": 76,
   "outputs": [],
   "source": [
    "from sklearn.model_selection import train_test_split\n",
    "from sklearn.impute import SimpleImputer\n",
    "from sklearn.preprocessing import StandardScaler\n",
    "from sklearn.pipeline import Pipeline\n",
    "\n",
    "data_pipeline = Pipeline(steps=[(\"imputer\", SimpleImputer(strategy=\"median\")), ('std_scalar', StandardScaler())])\n",
    "# test if I can hand-pick a few features avoiding most of the repeats.\n",
    "hand_picked_feature_list = ['fossil_electricity','coal_electricity', 'oil_electricity', 'hydro_electricity', 'wind_electricity', 'primary_energy_consumption', 'electricity_demand', 'gdp', 'low_carbon_electricity', 'renewables_electricity', 'agricultural_land_area_in_hectares', 'cropland_area_in_hectares', 'population', 'nuclear_electricity', 'forest_land_area_in_hectares', 'median_age', 'solar_electricity']\n",
    "\n",
    "X = dataframe[feature_list]\n",
    "y = dataframe['co2']\n",
    "\n",
    "X_train, X_test, y_train, y_test = train_test_split(X, y, test_size=0.2, random_state=42)\n"
   ],
   "metadata": {
    "collapsed": false,
    "pycharm": {
     "name": "#%%\n"
    }
   }
  },
  {
   "cell_type": "code",
   "execution_count": 77,
   "outputs": [
    {
     "data": {
      "text/plain": "[LinearRegression(),\n Ridge(random_state=42),\n Lasso(random_state=42),\n DecisionTreeRegressor(random_state=42),\n RandomForestRegressor(random_state=42),\n SGDRegressor(random_state=42)]"
     },
     "execution_count": 77,
     "metadata": {},
     "output_type": "execute_result"
    }
   ],
   "source": [
    "from sklearn.linear_model import Lasso\n",
    "from sklearn.linear_model import Ridge\n",
    "from sklearn.linear_model import LinearRegression\n",
    "from sklearn.linear_model import SGDRegressor\n",
    "from sklearn.tree import DecisionTreeRegressor\n",
    "from sklearn.ensemble import RandomForestRegressor"
   ],
   "metadata": {
    "collapsed": false,
    "pycharm": {
     "name": "#%%\n"
    }
   }
  },
  {
   "cell_type": "markdown",
   "source": [
    "## Training Model for features with no data leaks"
   ],
   "metadata": {
    "collapsed": false,
    "pycharm": {
     "name": "#%% md\n"
    }
   }
  },
  {
   "cell_type": "code",
   "execution_count": 78,
   "outputs": [
    {
     "data": {
      "text/plain": "[LinearRegression(),\n Ridge(random_state=42),\n Lasso(random_state=42),\n DecisionTreeRegressor(random_state=42),\n RandomForestRegressor(random_state=42),\n SGDRegressor(random_state=42)]"
     },
     "execution_count": 78,
     "metadata": {},
     "output_type": "execute_result"
    }
   ],
   "source": [
    "X_train_no_data_leaks = data_pipeline.fit_transform(X_train)\n",
    "X_test_no_data_leaks = data_pipeline.transform(X_test)\n",
    "linear_model = LinearRegression()\n",
    "ridge_model = Ridge(random_state=42)\n",
    "lasso_model = Lasso(random_state=42)\n",
    "sgd_model = SGDRegressor(random_state=42)\n",
    "decision_tree_model = DecisionTreeRegressor(random_state=42)\n",
    "random_forest_model = RandomForestRegressor(random_state=42)\n",
    "\n",
    "models_no_data_leaks = [linear_model, ridge_model, lasso_model, decision_tree_model, random_forest_model, sgd_model]\n",
    "[x.fit(X_train_no_data_leaks, y_train) for x in models_no_data_leaks ] #train features with data leak features removed"
   ],
   "metadata": {
    "collapsed": false,
    "pycharm": {
     "name": "#%%\n"
    }
   }
  },
  {
   "cell_type": "markdown",
   "source": [
    "## Training on hand-picked features"
   ],
   "metadata": {
    "collapsed": false,
    "pycharm": {
     "name": "#%% md\n"
    }
   }
  },
  {
   "cell_type": "code",
   "execution_count": 94,
   "outputs": [
    {
     "data": {
      "text/plain": "[LinearRegression(),\n Ridge(random_state=42),\n Lasso(random_state=42),\n DecisionTreeRegressor(random_state=42),\n RandomForestRegressor(random_state=42),\n SGDRegressor(random_state=42)]"
     },
     "execution_count": 94,
     "metadata": {},
     "output_type": "execute_result"
    }
   ],
   "source": [
    "X_train_hand_picked = data_pipeline.fit_transform(X_train[hand_picked_feature_list])\n",
    "X_test_hand_picked = data_pipeline.transform(X_test[hand_picked_feature_list])\n",
    "linear_model = LinearRegression()\n",
    "ridge_model = Ridge(random_state=42)\n",
    "lasso_model = Lasso(random_state=42)\n",
    "sgd_model = SGDRegressor(random_state=42)\n",
    "decision_tree_model = DecisionTreeRegressor(random_state=42)\n",
    "random_forest_model = RandomForestRegressor(random_state=42)\n",
    "\n",
    "model_hand_picked = [linear_model, ridge_model, lasso_model, decision_tree_model, random_forest_model, sgd_model]\n",
    "[x.fit(X_train_hand_picked, y_train) for x in model_hand_picked ] #train hand-picked features for models."
   ],
   "metadata": {
    "collapsed": false,
    "pycharm": {
     "name": "#%%\n"
    }
   }
  },
  {
   "cell_type": "code",
   "execution_count": 95,
   "outputs": [],
   "source": [
    "from sklearn.metrics import r2_score\n",
    "from sklearn.metrics import mean_squared_error\n",
    "from sklearn.metrics import mean_absolute_percentage_error\n",
    "\n",
    "def adjusted_r2(r2_score, sample_size, num_features):\n",
    "    return 1-(1-r2_score)*(sample_size-1)/(sample_size-num_features-1)"
   ],
   "metadata": {
    "collapsed": false,
    "pycharm": {
     "name": "#%%\n"
    }
   }
  },
  {
   "cell_type": "markdown",
   "source": [
    "## Checking scores for models with data leak features removed."
   ],
   "metadata": {
    "collapsed": false,
    "pycharm": {
     "name": "#%% md\n"
    }
   }
  },
  {
   "cell_type": "code",
   "execution_count": 98,
   "outputs": [
    {
     "name": "stdout",
     "output_type": "stream",
     "text": [
      "Train data scores\n",
      " LinearRegression: Mean Squared Error: 289.5085709265024, R2_score 0.9994327369831895, Adjusted R2 score: 0.9993827501938958, Mean absolute Percentage Error: 154.86914585539674%\n",
      " Ridge: Mean Squared Error: 325.0258479308347, R2_score 0.9993631444400813, Adjusted R2 score: 0.9993070252083656, Mean absolute Percentage Error: 141.5141591515493%\n",
      " Lasso: Mean Squared Error: 478.24819754432156, R2_score 0.9990629206090341, Adjusted R2 score: 0.9989803458797119, Mean absolute Percentage Error: 133.03416468595586%\n",
      " DecisionTreeRegressor: Mean Squared Error: 3.723102590841213e-36, R2_score 1.0, Adjusted R2 score: 1.0, Mean absolute Percentage Error: 1.927283154112025e-17%\n",
      " RandomForestRegressor: Mean Squared Error: 229.00656752222608, R2_score 0.999551284592555, Adjusted R2 score: 0.9995117441292072, Mean absolute Percentage Error: 3.0447826494203847%\n",
      " SGDRegressor: Mean Squared Error: 786.8921595717871, R2_score 0.9984581637119939, Adjusted R2 score: 0.9983222982609246, Mean absolute Percentage Error: 359.93617217410883%\n"
     ]
    },
    {
     "data": {
      "text/plain": "[None, None, None, None, None, None]"
     },
     "execution_count": 98,
     "metadata": {},
     "output_type": "execute_result"
    }
   ],
   "source": [
    "training_predictions = [m.predict(X_train_no_data_leaks) for m in models_no_data_leaks]\n",
    "mean_sq_errors = [mean_squared_error(y_train, y) for y in training_predictions]\n",
    "r2_scores = [r2_score(y_train, y) for y in training_predictions]\n",
    "adj_r2_scores = [adjusted_r2(score, len(X_train_no_data_leaks),len(X.columns)) for score in r2_scores]\n",
    "mean_absolute_pcent_errors = [mean_absolute_percentage_error(y_train, y) for y in training_predictions]\n",
    "print(\"Train data scores\")\n",
    "[print(f\" {model.__class__.__name__}: Mean Squared Error: {mean_sq_errors[i]}, R2_score {r2_scores[i]}, Adjusted R2 score: {adj_r2_scores[i]}, Mean absolute Percentage Error: {mean_absolute_pcent_errors[i]*100}%\") for i, model in enumerate(models_all)]"
   ],
   "metadata": {
    "collapsed": false,
    "pycharm": {
     "name": "#%%\n"
    }
   }
  },
  {
   "cell_type": "code",
   "execution_count": 99,
   "outputs": [
    {
     "name": "stdout",
     "output_type": "stream",
     "text": [
      "Test data scores\n",
      " LinearRegression: Mean Squared Error: 376.05361547816034, R2_score 0.9996468962750119, Adjusted R2 score: 0.9994775076145761, Mean absolute Percentage Error: 175.58496269521552%\n",
      " Ridge: Mean Squared Error: 400.79043696049706, R2_score 0.9996236690982204, Adjusted R2 score: 0.9994431380450994, Mean absolute Percentage Error: 147.47200766960106%\n",
      " Lasso: Mean Squared Error: 510.1154761928786, R2_score 0.9995210159737761, Adjusted R2 score: 0.9992912408203847, Mean absolute Percentage Error: 144.5616106173071%\n",
      " DecisionTreeRegressor: Mean Squared Error: 3028.1515466312417, R2_score 0.9971566512142575, Adjusted R2 score: 0.9957926581213357, Mean absolute Percentage Error: 10.380844166959752%\n",
      " RandomForestRegressor: Mean Squared Error: 819.9185094290365, R2_score 0.999230119674563, Adjusted R2 score: 0.9988607976091386, Mean absolute Percentage Error: 7.83990669180519%\n",
      " SGDRegressor: Mean Squared Error: 834.8276557141554, R2_score 0.9992161204072432, Adjusted R2 score: 0.998840082702842, Mean absolute Percentage Error: 409.6061533046062%\n"
     ]
    },
    {
     "data": {
      "text/plain": "[None, None, None, None, None, None]"
     },
     "execution_count": 99,
     "metadata": {},
     "output_type": "execute_result"
    }
   ],
   "source": [
    "predictions = [m.predict(X_test_no_data_leaks) for m in models_no_data_leaks]\n",
    "mean_sq_errors = [mean_squared_error(y_test, y_) for y_ in predictions]\n",
    "r2_scores = [r2_score(y_test, y_) for y_ in predictions]\n",
    "adj_r2_scores = [adjusted_r2(score, len(X_test_no_data_leaks),len(X.columns)) for score in r2_scores]\n",
    "mean_absolute_pcent_errors = [mean_absolute_percentage_error(y_test, y) for y in predictions]\n",
    "print(\"Test data scores\")\n",
    "[print(f\" {model.__class__.__name__}: Mean Squared Error: {mean_sq_errors[i]}, R2_score {r2_scores[i]}, Adjusted R2 score: {adj_r2_scores[i]}, Mean absolute Percentage Error: {mean_absolute_pcent_errors[i]*100}%\") for i, model in enumerate(models_no_data_leaks)]"
   ],
   "metadata": {
    "collapsed": false,
    "pycharm": {
     "name": "#%%\n"
    }
   }
  },
  {
   "cell_type": "markdown",
   "source": [
    "## Checking scores for hand-picked features"
   ],
   "metadata": {
    "collapsed": false,
    "pycharm": {
     "name": "#%% md\n"
    }
   }
  },
  {
   "cell_type": "code",
   "execution_count": 100,
   "outputs": [
    {
     "name": "stdout",
     "output_type": "stream",
     "text": [
      "Train data scores\n",
      " LinearRegression: Mean Squared Error: 879.5319944053741, R2_score 0.9982766452442804, Adjusted R2 score: 0.998124784522711, Mean absolute Percentage Error: 69.0896663602801%\n",
      " Ridge: Mean Squared Error: 903.1736830267689, R2_score 0.9982303217258887, Adjusted R2 score: 0.9980743790108091, Mean absolute Percentage Error: 63.3136380127831%\n",
      " Lasso: Mean Squared Error: 1146.5368255085075, R2_score 0.9977534760492895, Adjusted R2 score: 0.9975555140527561, Mean absolute Percentage Error: 65.63382422717916%\n",
      " DecisionTreeRegressor: Mean Squared Error: 3.723102590841213e-36, R2_score 1.0, Adjusted R2 score: 1.0, Mean absolute Percentage Error: 1.927283154112025e-17%\n",
      " RandomForestRegressor: Mean Squared Error: 291.06302180723304, R2_score 0.9994296911925475, Adjusted R2 score: 0.9993794360104792, Mean absolute Percentage Error: 3.0802275071050036%\n",
      " SGDRegressor: Mean Squared Error: 2525.3251214613565, R2_score 0.9950518786292124, Adjusted R2 score: 0.9946158539051755, Mean absolute Percentage Error: 172.79101188520258%\n"
     ]
    },
    {
     "data": {
      "text/plain": "[None, None, None, None, None, None]"
     },
     "execution_count": 100,
     "metadata": {},
     "output_type": "execute_result"
    }
   ],
   "source": [
    "training_predictions = [m.predict(X_train_hand_picked) for m in model_hand_picked]\n",
    "mean_sq_errors = [mean_squared_error(y_train, y) for y in training_predictions]\n",
    "r2_scores = [r2_score(y_train, y) for y in training_predictions]\n",
    "adj_r2_scores = [adjusted_r2(score, len(X_train_hand_picked),len(X.columns)) for score in r2_scores]\n",
    "mean_absolute_pcent_errors = [mean_absolute_percentage_error(y_train, y) for y in training_predictions]\n",
    "print(\"Train data scores\")\n",
    "[print(f\" {model.__class__.__name__}: Mean Squared Error: {mean_sq_errors[i]}, R2_score {r2_scores[i]}, Adjusted R2 score: {adj_r2_scores[i]}, Mean absolute Percentage Error: {mean_absolute_pcent_errors[i]*100}%\") for i, model in enumerate(model_hand_picked)]"
   ],
   "metadata": {
    "collapsed": false,
    "pycharm": {
     "name": "#%%\n"
    }
   }
  },
  {
   "cell_type": "code",
   "execution_count": 101,
   "outputs": [
    {
     "name": "stdout",
     "output_type": "stream",
     "text": [
      "Test data scores\n",
      " LinearRegression: Mean Squared Error: 897.770488440689, R2_score 0.9991570188648506, Adjusted R2 score: 0.9987526293465571, Mean absolute Percentage Error: 70.44665233491584%\n",
      " Ridge: Mean Squared Error: 914.3866742239034, R2_score 0.9991414167356498, Adjusted R2 score: 0.99872954266373, Mean absolute Percentage Error: 64.43855119704645%\n",
      " Lasso: Mean Squared Error: 1232.557560248675, R2_score 0.9988426632589806, Adjusted R2 score: 0.9982874730801146, Mean absolute Percentage Error: 68.38473450335937%\n",
      " DecisionTreeRegressor: Mean Squared Error: 2832.231697384863, R2_score 0.9973406144198234, Adjusted R2 score: 0.9960648709792136, Mean absolute Percentage Error: 9.82589012310158%\n",
      " RandomForestRegressor: Mean Squared Error: 1316.1881935835838, R2_score 0.9987641364560509, Adjusted R2 score: 0.998171275901555, Mean absolute Percentage Error: 8.184174432435306%\n",
      " SGDRegressor: Mean Squared Error: 3637.796512189277, R2_score 0.9965842118082832, Adjusted R2 score: 0.9949456117449536, Mean absolute Percentage Error: 186.3479165282411%\n"
     ]
    },
    {
     "data": {
      "text/plain": "[None, None, None, None, None, None]"
     },
     "execution_count": 101,
     "metadata": {},
     "output_type": "execute_result"
    }
   ],
   "source": [
    "predictions = [m.predict(X_test_hand_picked) for m in model_hand_picked]\n",
    "mean_sq_errors = [mean_squared_error(y_test, y_) for y_ in predictions]\n",
    "r2_scores = [r2_score(y_test, y_) for y_ in predictions]\n",
    "adj_r2_scores = [adjusted_r2(score, len(X_test_hand_picked),len(X.columns)) for score in r2_scores]\n",
    "mean_absolute_pcent_errors = [mean_absolute_percentage_error(y_test, y) for y in predictions]\n",
    "print(\"Test data scores\")\n",
    "[print(f\" {model.__class__.__name__}: Mean Squared Error: {mean_sq_errors[i]}, R2_score {r2_scores[i]}, Adjusted R2 score: {adj_r2_scores[i]}, Mean absolute Percentage Error: {mean_absolute_pcent_errors[i]*100}%\") for i, model in enumerate(model_hand_picked)]"
   ],
   "metadata": {
    "collapsed": false,
    "pycharm": {
     "name": "#%%\n"
    }
   }
  },
  {
   "cell_type": "code",
   "execution_count": 105,
   "outputs": [],
   "source": [
    "#Linear paradoxically is our best bet after the clean-up. \n",
    "random_forest_preds = predictions[4]"
   ],
   "metadata": {
    "collapsed": false,
    "ExecuteTime": {
     "end_time": "2023-12-01T22:41:00.183655Z",
     "start_time": "2023-12-01T22:41:00.180617Z"
    },
    "pycharm": {
     "name": "#%%\n"
    }
   }
  },
  {
   "cell_type": "code",
   "execution_count": 106,
   "outputs": [
    {
     "data": {
      "text/plain": "<Figure size 600x600 with 1 Axes>",
      "image/png": "[encoded data removed]"
     },
     "metadata": {},
     "output_type": "display_data"
    }
   ],
   "source": [
    "#Seems like Lasso performs the best which is to be expected.\n",
    "\n",
    "import matplotlib.pyplot as plt\n",
    "\n",
    "# Plotting predicted vs actual values\n",
    "plt.figure(figsize=(6, 6))\n",
    "plt.scatter(y_test, random_forest_preds, alpha=0.5)\n",
    "plt.xlabel('Actual CO2 Values')\n",
    "plt.ylabel('Predicted CO2 Values')\n",
    "plt.title('Predicted vs Actual CO2 Values')\n",
    "plt.show()"
   ],
   "metadata": {
    "collapsed": false,
    "ExecuteTime": {
     "end_time": "2023-12-01T22:41:02.795287Z",
     "start_time": "2023-12-01T22:41:02.719359Z"
    },
    "pycharm": {
     "name": "#%%\n"
    }
   }
  },
  {
   "cell_type": "code",
   "execution_count": 107,
   "outputs": [
    {
     "data": {
      "text/plain": "<Figure size 1000x600 with 1 Axes>",
      "image/png": "[encoded data removed]"
     },
     "metadata": {},
     "output_type": "display_data"
    }
   ],
   "source": [
    "# Assuming you have your actual and predicted values as follows:\n",
    "actual_values = y_test\n",
    "predicted_values = random_forest_preds\n",
    "\n",
    "# Calculate residuals\n",
    "residuals = actual_values - predicted_values\n",
    "\n",
    "# Plotting the residuals\n",
    "plt.figure(figsize=(10, 6))\n",
    "plt.scatter(predicted_values, residuals, alpha=0.5)\n",
    "plt.title('Residuals vs Predicted Values')\n",
    "plt.xlabel('Predicted CO2 Values')\n",
    "plt.ylabel('Residuals')\n",
    "plt.axhline(y=0, color='r', linestyle=':')  # Adds a horizontal line at zero\n",
    "plt.show()"
   ],
   "metadata": {
    "collapsed": false,
    "ExecuteTime": {
     "end_time": "2023-12-01T22:41:10.374899Z",
     "start_time": "2023-12-01T22:41:10.270509Z"
    },
    "pycharm": {
     "name": "#%%\n"
    }
   }
  }
 ],
 "metadata": {
  "kernelspec": {
   "display_name": "Python 3",
   "language": "python",
   "name": "python3"
  },
  "language_info": {
   "codemirror_mode": {
    "name": "ipython",
    "version": 2
   },
   "file_extension": ".py",
   "mimetype": "text/x-python",
   "name": "python",
   "nbconvert_exporter": "python",
   "pygments_lexer": "ipython2",
   "version": "2.7.6"
  }
 },
 "nbformat": 4,
 "nbformat_minor": 0
}