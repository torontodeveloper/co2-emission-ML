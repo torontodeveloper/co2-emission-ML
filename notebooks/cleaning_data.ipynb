{
 "cells": [
  {
   "cell_type": "code",
   "execution_count": 1,
   "outputs": [
    {
     "data": {
      "text/plain": "(3104, 204)"
     },
     "execution_count": 1,
     "metadata": {},
     "output_type": "execute_result"
    }
   ],
   "source": [
    "from src.data.get_dataset import get_merged_datasets\n",
    "dataframe = get_merged_datasets()\n",
    "\n",
    "dataframe.shape"
   ],
   "metadata": {
    "collapsed": false,
    "pycharm": {
     "name": "#%%\n"
    },
    "ExecuteTime": {
     "end_time": "2023-12-01T19:44:58.953814Z",
     "start_time": "2023-12-01T19:44:55.442511Z"
    }
   }
  },
  {
   "cell_type": "code",
   "execution_count": 2,
   "outputs": [
    {
     "name": "stdout",
     "output_type": "stream",
     "text": [
      "['agricultural_land_area_in_hectares', 'biofuel_cons_per_capita', 'biofuel_consumption', 'biofuel_elec_per_capita', 'biofuel_electricity', 'biofuel_share_elec', 'biofuel_share_energy', 'carbon_intensity_elec', 'coal_cons_per_capita', 'coal_consumption', 'coal_elec_per_capita', 'coal_electricity', 'coal_prod_per_capita', 'coal_production', 'coal_share_elec', 'coal_share_energy', 'cropland_area_in_hectares', 'electricity_demand', 'electricity_generation', 'electricity_share_energy', 'energy_per_capita', 'energy_per_gdp', 'forest_land_area_in_hectares', 'fossil_elec_per_capita', 'fossil_electricity', 'fossil_energy_per_capita', 'fossil_fuel_consumption', 'fossil_share_elec', 'fossil_share_energy', 'gas_consumption', 'gas_elec_per_capita', 'gas_electricity', 'gas_energy_per_capita', 'gas_prod_per_capita', 'gas_production', 'gas_share_elec', 'gas_share_energy', 'gdp', 'hydro_consumption', 'hydro_elec_per_capita', 'hydro_electricity', 'hydro_energy_per_capita', 'hydro_share_elec', 'hydro_share_energy', 'low_carbon_consumption', 'low_carbon_elec_per_capita', 'low_carbon_electricity', 'low_carbon_energy_per_capita', 'low_carbon_share_elec', 'low_carbon_share_energy', 'median_age', 'net_elec_imports', 'net_elec_imports_share_demand', 'nuclear_consumption', 'nuclear_elec_per_capita', 'nuclear_electricity', 'nuclear_energy_per_capita', 'nuclear_share_elec', 'nuclear_share_energy', 'oil_consumption', 'oil_elec_per_capita', 'oil_electricity', 'oil_energy_per_capita', 'oil_prod_per_capita', 'oil_production', 'oil_share_elec', 'oil_share_energy', 'other_renewable_consumption', 'other_renewable_electricity', 'other_renewable_exc_biofuel_electricity', 'other_renewables_elec_per_capita', 'other_renewables_elec_per_capita_exc_biofuel', 'other_renewables_energy_per_capita', 'other_renewables_share_elec', 'other_renewables_share_elec_exc_biofuel', 'other_renewables_share_energy', 'per_capita_electricity', 'population', 'primary_energy_consumption', 'renewables_consumption', 'renewables_elec_per_capita', 'renewables_electricity', 'renewables_energy_per_capita', 'renewables_share_elec', 'renewables_share_energy', 'solar_consumption', 'solar_elec_per_capita', 'solar_electricity', 'solar_energy_per_capita', 'solar_share_elec', 'solar_share_energy', 'wind_consumption', 'wind_elec_per_capita', 'wind_electricity', 'wind_energy_per_capita', 'wind_share_elec', 'wind_share_energy']\n"
     ]
    }
   ],
   "source": [
    "numeric_cols = dataframe.select_dtypes(include=['number']).columns.difference(['year']).tolist() #we don't want year to be a feature in our prediction model\n",
    "#we want to limit our feature set to columns without any data leaks, since in real prediction we wouldn't know those values.\n",
    "data_leak_list = [\"co2\", \"ghg\", \"greenhouse_gas\", \"nitrous_oxide\", \"methane\", \"ch4\", \"n2o\", \"change\"]\n",
    "\n",
    "def is_data_leak(s):\n",
    "    for data_leak in data_leak_list: \n",
    "        if data_leak in s:\n",
    "            return True\n",
    "        \n",
    "    return False\n",
    "feature_list = []    \n",
    "for x in numeric_cols: \n",
    "    is_leak = is_data_leak(x)\n",
    "    if not is_leak: \n",
    "        feature_list.append(x)\n",
    "        \n",
    "print(feature_list)"
   ],
   "metadata": {
    "collapsed": false,
    "pycharm": {
     "name": "#%%\n"
    },
    "ExecuteTime": {
     "end_time": "2023-12-01T19:44:59.942466Z",
     "start_time": "2023-12-01T19:44:59.930374Z"
    }
   }
  },
  {
   "cell_type": "code",
   "execution_count": 6,
   "outputs": [
    {
     "data": {
      "text/plain": "co2                           1.000000\nfossil_fuel_consumption       0.992006\nfossil_electricity            0.990423\nprimary_energy_consumption    0.987311\nelectricity_generation        0.979749\n                                ...   \nhydro_share_elec             -0.112958\nrenewables_share_elec        -0.115668\noil_share_elec               -0.146162\nnuclear_share_energy         -0.164512\noil_share_energy             -0.173952\nName: co2, Length: 98, dtype: float64"
     },
     "execution_count": 6,
     "metadata": {},
     "output_type": "execute_result"
    }
   ],
   "source": [
    "#checking correlations between various features and co2 data\n",
    "dataframe[feature_list + ['co2']].corr()['co2'].sort_values(ascending=False) #Reduced feature list to 97, need to check if any of these are unrelated. "
   ],
   "metadata": {
    "collapsed": false,
    "pycharm": {
     "name": "#%%\n"
    },
    "ExecuteTime": {
     "end_time": "2023-12-01T19:45:38.924942Z",
     "start_time": "2023-12-01T19:45:38.872529Z"
    }
   }
  },
  {
   "cell_type": "code",
   "execution_count": 7,
   "outputs": [],
   "source": [
    "from sklearn.model_selection import train_test_split\n",
    "from sklearn.impute import SimpleImputer\n",
    "from sklearn.preprocessing import StandardScaler\n",
    "from sklearn.preprocessing import RobustScaler\n",
    "\n",
    "X = dataframe[feature_list]\n",
    "Y = dataframe['co2']\n",
    "\n",
    "X_train, X_test, y_train, y_test = train_test_split(X, Y, test_size=0.2, random_state=42)\n",
    "\n",
    "simple_imputer = SimpleImputer(strategy='mean')\n",
    "\n",
    "#fit imputer on training set, and fit both train and test\n",
    "simple_imputer.fit(X_train)\n",
    "\n",
    "X_train = simple_imputer.transform(X_train)\n",
    "X_test = simple_imputer.transform(X_test)\n",
    "\n",
    "scalar = StandardScaler() #RobustScaler(with_scaling=True, with_centering=True) I tried the robust scalar to reduce outliers, it didn't make a difference. \n",
    "scalar.fit(X_train)\n",
    "X_train = scalar.transform(X_train)\n",
    "X_test = scalar.transform(X_test)"
   ],
   "metadata": {
    "collapsed": false,
    "pycharm": {
     "name": "#%%\n"
    },
    "ExecuteTime": {
     "end_time": "2023-12-01T19:45:44.535631Z",
     "start_time": "2023-12-01T19:45:44.517437Z"
    }
   }
  },
  {
   "cell_type": "code",
   "execution_count": 8,
   "outputs": [
    {
     "data": {
      "text/plain": "[LinearRegression(),\n Ridge(random_state=42),\n Lasso(random_state=42, tol=0.001),\n DecisionTreeRegressor(random_state=42),\n RandomForestRegressor(random_state=42),\n SGDRegressor(random_state=42)]"
     },
     "execution_count": 8,
     "metadata": {},
     "output_type": "execute_result"
    }
   ],
   "source": [
    "# Let's train a basic model for testing\n",
    "from sklearn.linear_model import Lasso\n",
    "from sklearn.linear_model import Ridge\n",
    "from sklearn.linear_model import LinearRegression\n",
    "from sklearn.linear_model import SGDRegressor\n",
    "from sklearn.tree import DecisionTreeRegressor\n",
    "from sklearn.ensemble import RandomForestRegressor\n",
    "\n",
    "linear_model = LinearRegression()\n",
    "ridge_model = Ridge(random_state=42)\n",
    "lasso_model = Lasso(random_state=42, tol=0.001) #reducing the tolerance so the model will converge\n",
    "sgd_model = SGDRegressor(random_state=42)\n",
    "decision_tree_model = DecisionTreeRegressor(random_state=42)\n",
    "random_forest_model = RandomForestRegressor(random_state=42)\n",
    "\n",
    "models = [linear_model, ridge_model, lasso_model, decision_tree_model, random_forest_model, sgd_model]\n",
    "[x.fit(X_train, y_train) for x in models ] #train all models"
   ],
   "metadata": {
    "collapsed": false,
    "pycharm": {
     "name": "#%%\n"
    },
    "ExecuteTime": {
     "end_time": "2023-12-01T19:45:56.678558Z",
     "start_time": "2023-12-01T19:45:48.905346Z"
    }
   }
  },
  {
   "cell_type": "code",
   "execution_count": 9,
   "outputs": [
    {
     "name": "stdout",
     "output_type": "stream",
     "text": [
      "Train data scores\n",
      " LinearRegression: Mean Squared Error: 295.94390614645977, R2_score 0.9994201275890725, Adjusted R2 score: 0.0006034563203027438\n",
      " Ridge: Mean Squared Error: 336.138434767967, R2_score 0.9993413704403906, Adjusted R2 score: 0.0006854165899163448\n",
      " Lasso: Mean Squared Error: 500.6714989649896, R2_score 0.9990189843981993, Adjusted R2 score: 0.0010209143495469438\n",
      " DecisionTreeRegressor: Mean Squared Error: 3.723102590841213e-36, R2_score 1.0, Adjusted R2 score: 0.0\n",
      " RandomForestRegressor: Mean Squared Error: 194.2770771175954, R2_score 0.9996193335468094, Adjusted R2 score: 0.00039614848503941095\n",
      " SGDRegressor: Mean Squared Error: 3367.786408166783, R2_score 0.9934011602082924, Adjusted R2 score: 0.00686722027799509\n"
     ]
    },
    {
     "data": {
      "text/plain": "[None, None, None, None, None, None]"
     },
     "execution_count": 9,
     "metadata": {},
     "output_type": "execute_result"
    }
   ],
   "source": [
    "from sklearn.metrics import r2_score\n",
    "from sklearn.metrics import mean_squared_error\n",
    "\n",
    "training_predictions = [m.predict(X_train) for m in models]\n",
    "mean_sq_errors = [mean_squared_error(y_train, y) for y in training_predictions]\n",
    "r2_scores = [r2_score(y_train, y) for y in training_predictions]\n",
    "adj_r2_scores = [((1 - score)*(len(y_train)-1)/(len(y_train)-X_test.shape[1]-1)) for score in r2_scores]\n",
    "print(\"Train data scores\")\n",
    "[print(f\" {models[i].__class__.__name__}: Mean Squared Error: {mean_sq_errors[i]}, R2_score {r2_scores[i]}, Adjusted R2 score: {adj_r2_scores[i]}\") for i in range(0, len(models))]\n"
   ],
   "metadata": {
    "collapsed": false,
    "pycharm": {
     "name": "#%%\n"
    },
    "ExecuteTime": {
     "end_time": "2023-12-01T19:46:17.821528Z",
     "start_time": "2023-12-01T19:46:17.753541Z"
    }
   }
  },
  {
   "cell_type": "code",
   "execution_count": 10,
   "outputs": [
    {
     "name": "stdout",
     "output_type": "stream",
     "text": [
      "Test data scores\n",
      " LinearRegression: Mean Squared Error: 397.98040874000674, R2_score 0.9996263076353629, Adjusted R2 score: 0.0004430005087476551\n",
      " Ridge: Mean Squared Error: 433.076847900092, R2_score 0.9995933530701329, Adjusted R2 score: 0.000482067106152248\n",
      " Lasso: Mean Squared Error: 539.0103644798452, R2_score 0.999493884489681, Adjusted R2 score: 0.0005999839701678191\n",
      " DecisionTreeRegressor: Mean Squared Error: 6154.5432769806785, R2_score 0.9942210576703564, Adjusted R2 score: 0.006850753813344229\n",
      " RandomForestRegressor: Mean Squared Error: 739.8698048332967, R2_score 0.9993052831475622, Adjusted R2 score: 0.0008235649111117639\n",
      " SGDRegressor: Mean Squared Error: 4798.813677777677, R2_score 0.9954940494775126, Adjusted R2 score: 0.00534166218726992\n"
     ]
    },
    {
     "data": {
      "text/plain": "[None, None, None, None, None, None]"
     },
     "execution_count": 10,
     "metadata": {},
     "output_type": "execute_result"
    }
   ],
   "source": [
    "\n",
    "predictions = [m.predict(X_test) for m in models]\n",
    "mean_sq_errors = [mean_squared_error(y_test, y_) for y_ in predictions]\n",
    "r2_scores = [r2_score(y_test, y_) for y_ in predictions]\n",
    "adj_r2_scores = [((1 - score)*(len(y_test)-1)/(len(y_test)-X_test.shape[1]-1)) for score in r2_scores]\n",
    "print(\"Test data scores\")\n",
    "[print(f\" {models[i].__class__.__name__}: Mean Squared Error: {mean_sq_errors[i]}, R2_score {r2_scores[i]}, Adjusted R2 score: {adj_r2_scores[i]}\") for i in range(0, len(models))]\n"
   ],
   "metadata": {
    "collapsed": false,
    "pycharm": {
     "name": "#%%\n"
    },
    "ExecuteTime": {
     "end_time": "2023-12-01T19:47:01.235806Z",
     "start_time": "2023-12-01T19:47:01.100875Z"
    }
   }
  },
  {
   "cell_type": "code",
   "execution_count": null,
   "outputs": [],
   "source": [
    "#It seems lasso performed better than Random Forest Regression or gradient decent, so we might want to go with that going forward.\n",
    "lasso_predictions = predictions[2]"
   ],
   "metadata": {
    "collapsed": false,
    "pycharm": {
     "name": "#%%\n"
    }
   }
  },
  {
   "cell_type": "code",
   "execution_count": null,
   "outputs": [],
   "source": [
    "#Seems like Lasso performs the best which is to be expected.\n",
    "\n",
    "import matplotlib.pyplot as plt\n",
    "\n",
    "# Plotting predicted vs actual values\n",
    "plt.figure(figsize=(6, 6))\n",
    "plt.scatter(y_test, lasso_predictions, alpha=0.5)\n",
    "plt.xlabel('Actual CO2 Values')\n",
    "plt.ylabel('Predicted CO2 Values')\n",
    "plt.title('Predicted vs Actual CO2 Values')\n",
    "plt.show()"
   ],
   "metadata": {
    "collapsed": false,
    "pycharm": {
     "name": "#%%\n"
    }
   }
  },
  {
   "cell_type": "code",
   "execution_count": null,
   "outputs": [],
   "source": [
    "# Assuming you have your actual and predicted values as follows:\n",
    "actual_values = y_test\n",
    "predicted_values = lasso_predictions\n",
    "\n",
    "# Calculate residuals\n",
    "residuals = actual_values - predicted_values\n",
    "\n",
    "# Plotting the residuals\n",
    "plt.figure(figsize=(10, 6))\n",
    "plt.scatter(predicted_values, residuals, alpha=0.5)\n",
    "plt.title('Residuals vs Predicted Values')\n",
    "plt.xlabel('Predicted CO2 Values')\n",
    "plt.ylabel('Residuals')\n",
    "plt.axhline(y=0, color='r', linestyle='--')  # Adds a horizontal line at zero\n",
    "plt.show()"
   ],
   "metadata": {
    "collapsed": false,
    "pycharm": {
     "name": "#%%\n"
    }
   }
  },
  {
   "cell_type": "code",
   "execution_count": null,
   "outputs": [],
   "source": [],
   "metadata": {
    "collapsed": false
   }
  }
 ],
 "metadata": {
  "kernelspec": {
   "display_name": "Python 3",
   "language": "python",
   "name": "python3"
  },
  "language_info": {
   "codemirror_mode": {
    "name": "ipython",
    "version": 2
   },
   "file_extension": ".py",
   "mimetype": "text/x-python",
   "name": "python",
   "nbconvert_exporter": "python",
   "pygments_lexer": "ipython2",
   "version": "2.7.6"
  }
 },
 "nbformat": 4,
 "nbformat_minor": 0
}
