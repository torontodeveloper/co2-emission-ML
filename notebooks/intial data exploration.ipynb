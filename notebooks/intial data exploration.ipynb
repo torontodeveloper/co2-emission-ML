{
 "cells": [
  {
   "cell_type": "markdown",
   "source": [
    "# Intial data exploration"
   ],
   "metadata": {
    "collapsed": false
   }
  },
  {
   "cell_type": "code",
   "execution_count": 1,
   "outputs": [
    {
     "data": {
      "text/plain": "            country  year iso_code  population           gdp  cement_co2  \\\n0       Afghanistan  1900      AFG   4707744.0           NaN         NaN   \n1       Afghanistan  1901      AFG   4751177.0           NaN         NaN   \n2       Afghanistan  1902      AFG   4802500.0           NaN         NaN   \n3       Afghanistan  1903      AFG   4861833.0           NaN         NaN   \n4       Afghanistan  1904      AFG   4921891.0           NaN         NaN   \n...             ...   ...      ...         ...           ...         ...   \n232538     Zimbabwe  2017      ZWE  14751101.0  2.194784e+10       0.469   \n232539     Zimbabwe  2018      ZWE  15052191.0  2.271535e+10       0.558   \n232540     Zimbabwe  2019      ZWE  15354606.0           NaN       0.570   \n232541     Zimbabwe  2020      ZWE  15669663.0           NaN       0.570   \n232542     Zimbabwe  2021      ZWE  15993525.0           NaN       0.570   \n\n        cement_co2_per_capita     co2  co2_growth_abs  co2_growth_prct  ...  \\\n0                         NaN     NaN             NaN              NaN  ...   \n1                         NaN     NaN             NaN              NaN  ...   \n2                         NaN     NaN             NaN              NaN  ...   \n3                         NaN     NaN             NaN              NaN  ...   \n4                         NaN     NaN             NaN              NaN  ...   \n...                       ...     ...             ...              ...  ...   \n232538                  0.032   9.596          -0.937           -8.899  ...   \n232539                  0.037  11.795           2.199           22.920  ...   \n232540                  0.037  11.115          -0.681           -5.772  ...   \n232541                  0.036  10.608          -0.507           -4.559  ...   \n232542                  0.036  11.296           0.688            6.488  ...   \n\n        solar_share_elec  solar_share_energy  wind_cons_change_pct  \\\n0                    NaN                 NaN                   NaN   \n1                    NaN                 NaN                   NaN   \n2                    NaN                 NaN                   NaN   \n3                    NaN                 NaN                   NaN   \n4                    NaN                 NaN                   NaN   \n...                  ...                 ...                   ...   \n232538             0.136                 NaN                   NaN   \n232539             0.218                 NaN                   NaN   \n232540             0.364                 NaN                   NaN   \n232541             0.395                 NaN                   NaN   \n232542             0.498                 NaN                   NaN   \n\n        wind_cons_change_twh  wind_consumption  wind_elec_per_capita  \\\n0                        NaN               NaN                   NaN   \n1                        NaN               NaN                   NaN   \n2                        NaN               NaN                   NaN   \n3                        NaN               NaN                   NaN   \n4                        NaN               NaN                   NaN   \n...                      ...               ...                   ...   \n232538                   NaN               NaN                   0.0   \n232539                   NaN               NaN                   0.0   \n232540                   NaN               NaN                   0.0   \n232541                   NaN               NaN                   0.0   \n232542                   NaN               NaN                   0.0   \n\n        wind_electricity  wind_energy_per_capita  wind_share_elec  \\\n0                    NaN                     NaN              NaN   \n1                    NaN                     NaN              NaN   \n2                    NaN                     NaN              NaN   \n3                    NaN                     NaN              NaN   \n4                    NaN                     NaN              NaN   \n...                  ...                     ...              ...   \n232538               0.0                     NaN              0.0   \n232539               0.0                     NaN              0.0   \n232540               0.0                     NaN              0.0   \n232541               0.0                     NaN              0.0   \n232542               0.0                     NaN              0.0   \n\n        wind_share_energy  \n0                     NaN  \n1                     NaN  \n2                     NaN  \n3                     NaN  \n4                     NaN  \n...                   ...  \n232538                NaN  \n232539                NaN  \n232540                NaN  \n232541                NaN  \n232542                NaN  \n\n[232543 rows x 200 columns]",
      "text/html": "<div>\n<style scoped>\n    .dataframe tbody tr th:only-of-type {\n        vertical-align: middle;\n    }\n\n    .dataframe tbody tr th {\n        vertical-align: top;\n    }\n\n    .dataframe thead th {\n        text-align: right;\n    }\n</style>\n<table border=\"1\" class=\"dataframe\">\n  <thead>\n    <tr style=\"text-align: right;\">\n      <th></th>\n      <th>country</th>\n      <th>year</th>\n      <th>iso_code</th>\n      <th>population</th>\n      <th>gdp</th>\n      <th>cement_co2</th>\n      <th>cement_co2_per_capita</th>\n      <th>co2</th>\n      <th>co2_growth_abs</th>\n      <th>co2_growth_prct</th>\n      <th>...</th>\n      <th>solar_share_elec</th>\n      <th>solar_share_energy</th>\n      <th>wind_cons_change_pct</th>\n      <th>wind_cons_change_twh</th>\n      <th>wind_consumption</th>\n      <th>wind_elec_per_capita</th>\n      <th>wind_electricity</th>\n      <th>wind_energy_per_capita</th>\n      <th>wind_share_elec</th>\n      <th>wind_share_energy</th>\n    </tr>\n  </thead>\n  <tbody>\n    <tr>\n      <th>0</th>\n      <td>Afghanistan</td>\n      <td>1900</td>\n      <td>AFG</td>\n      <td>4707744.0</td>\n      <td>NaN</td>\n      <td>NaN</td>\n      <td>NaN</td>\n      <td>NaN</td>\n      <td>NaN</td>\n      <td>NaN</td>\n      <td>...</td>\n      <td>NaN</td>\n      <td>NaN</td>\n      <td>NaN</td>\n      <td>NaN</td>\n      <td>NaN</td>\n      <td>NaN</td>\n      <td>NaN</td>\n      <td>NaN</td>\n      <td>NaN</td>\n      <td>NaN</td>\n    </tr>\n    <tr>\n      <th>1</th>\n      <td>Afghanistan</td>\n      <td>1901</td>\n      <td>AFG</td>\n      <td>4751177.0</td>\n      <td>NaN</td>\n      <td>NaN</td>\n      <td>NaN</td>\n      <td>NaN</td>\n      <td>NaN</td>\n      <td>NaN</td>\n      <td>...</td>\n      <td>NaN</td>\n      <td>NaN</td>\n      <td>NaN</td>\n      <td>NaN</td>\n      <td>NaN</td>\n      <td>NaN</td>\n      <td>NaN</td>\n      <td>NaN</td>\n      <td>NaN</td>\n      <td>NaN</td>\n    </tr>\n    <tr>\n      <th>2</th>\n      <td>Afghanistan</td>\n      <td>1902</td>\n      <td>AFG</td>\n      <td>4802500.0</td>\n      <td>NaN</td>\n      <td>NaN</td>\n      <td>NaN</td>\n      <td>NaN</td>\n      <td>NaN</td>\n      <td>NaN</td>\n      <td>...</td>\n      <td>NaN</td>\n      <td>NaN</td>\n      <td>NaN</td>\n      <td>NaN</td>\n      <td>NaN</td>\n      <td>NaN</td>\n      <td>NaN</td>\n      <td>NaN</td>\n      <td>NaN</td>\n      <td>NaN</td>\n    </tr>\n    <tr>\n      <th>3</th>\n      <td>Afghanistan</td>\n      <td>1903</td>\n      <td>AFG</td>\n      <td>4861833.0</td>\n      <td>NaN</td>\n      <td>NaN</td>\n      <td>NaN</td>\n      <td>NaN</td>\n      <td>NaN</td>\n      <td>NaN</td>\n      <td>...</td>\n      <td>NaN</td>\n      <td>NaN</td>\n      <td>NaN</td>\n      <td>NaN</td>\n      <td>NaN</td>\n      <td>NaN</td>\n      <td>NaN</td>\n      <td>NaN</td>\n      <td>NaN</td>\n      <td>NaN</td>\n    </tr>\n    <tr>\n      <th>4</th>\n      <td>Afghanistan</td>\n      <td>1904</td>\n      <td>AFG</td>\n      <td>4921891.0</td>\n      <td>NaN</td>\n      <td>NaN</td>\n      <td>NaN</td>\n      <td>NaN</td>\n      <td>NaN</td>\n      <td>NaN</td>\n      <td>...</td>\n      <td>NaN</td>\n      <td>NaN</td>\n      <td>NaN</td>\n      <td>NaN</td>\n      <td>NaN</td>\n      <td>NaN</td>\n      <td>NaN</td>\n      <td>NaN</td>\n      <td>NaN</td>\n      <td>NaN</td>\n    </tr>\n    <tr>\n      <th>...</th>\n      <td>...</td>\n      <td>...</td>\n      <td>...</td>\n      <td>...</td>\n      <td>...</td>\n      <td>...</td>\n      <td>...</td>\n      <td>...</td>\n      <td>...</td>\n      <td>...</td>\n      <td>...</td>\n      <td>...</td>\n      <td>...</td>\n      <td>...</td>\n      <td>...</td>\n      <td>...</td>\n      <td>...</td>\n      <td>...</td>\n      <td>...</td>\n      <td>...</td>\n      <td>...</td>\n    </tr>\n    <tr>\n      <th>232538</th>\n      <td>Zimbabwe</td>\n      <td>2017</td>\n      <td>ZWE</td>\n      <td>14751101.0</td>\n      <td>2.194784e+10</td>\n      <td>0.469</td>\n      <td>0.032</td>\n      <td>9.596</td>\n      <td>-0.937</td>\n      <td>-8.899</td>\n      <td>...</td>\n      <td>0.136</td>\n      <td>NaN</td>\n      <td>NaN</td>\n      <td>NaN</td>\n      <td>NaN</td>\n      <td>0.0</td>\n      <td>0.0</td>\n      <td>NaN</td>\n      <td>0.0</td>\n      <td>NaN</td>\n    </tr>\n    <tr>\n      <th>232539</th>\n      <td>Zimbabwe</td>\n      <td>2018</td>\n      <td>ZWE</td>\n      <td>15052191.0</td>\n      <td>2.271535e+10</td>\n      <td>0.558</td>\n      <td>0.037</td>\n      <td>11.795</td>\n      <td>2.199</td>\n      <td>22.920</td>\n      <td>...</td>\n      <td>0.218</td>\n      <td>NaN</td>\n      <td>NaN</td>\n      <td>NaN</td>\n      <td>NaN</td>\n      <td>0.0</td>\n      <td>0.0</td>\n      <td>NaN</td>\n      <td>0.0</td>\n      <td>NaN</td>\n    </tr>\n    <tr>\n      <th>232540</th>\n      <td>Zimbabwe</td>\n      <td>2019</td>\n      <td>ZWE</td>\n      <td>15354606.0</td>\n      <td>NaN</td>\n      <td>0.570</td>\n      <td>0.037</td>\n      <td>11.115</td>\n      <td>-0.681</td>\n      <td>-5.772</td>\n      <td>...</td>\n      <td>0.364</td>\n      <td>NaN</td>\n      <td>NaN</td>\n      <td>NaN</td>\n      <td>NaN</td>\n      <td>0.0</td>\n      <td>0.0</td>\n      <td>NaN</td>\n      <td>0.0</td>\n      <td>NaN</td>\n    </tr>\n    <tr>\n      <th>232541</th>\n      <td>Zimbabwe</td>\n      <td>2020</td>\n      <td>ZWE</td>\n      <td>15669663.0</td>\n      <td>NaN</td>\n      <td>0.570</td>\n      <td>0.036</td>\n      <td>10.608</td>\n      <td>-0.507</td>\n      <td>-4.559</td>\n      <td>...</td>\n      <td>0.395</td>\n      <td>NaN</td>\n      <td>NaN</td>\n      <td>NaN</td>\n      <td>NaN</td>\n      <td>0.0</td>\n      <td>0.0</td>\n      <td>NaN</td>\n      <td>0.0</td>\n      <td>NaN</td>\n    </tr>\n    <tr>\n      <th>232542</th>\n      <td>Zimbabwe</td>\n      <td>2021</td>\n      <td>ZWE</td>\n      <td>15993525.0</td>\n      <td>NaN</td>\n      <td>0.570</td>\n      <td>0.036</td>\n      <td>11.296</td>\n      <td>0.688</td>\n      <td>6.488</td>\n      <td>...</td>\n      <td>0.498</td>\n      <td>NaN</td>\n      <td>NaN</td>\n      <td>NaN</td>\n      <td>NaN</td>\n      <td>0.0</td>\n      <td>0.0</td>\n      <td>NaN</td>\n      <td>0.0</td>\n      <td>NaN</td>\n    </tr>\n  </tbody>\n</table>\n<p>232543 rows × 200 columns</p>\n</div>"
     },
     "execution_count": 1,
     "metadata": {},
     "output_type": "execute_result"
    }
   ],
   "source": [
    "import pandas as pd\n",
    "from src.data.get_dataset import get_merged_datasets, get_merged_code_books\n",
    "\n",
    "merged_df = get_merged_datasets()\n",
    "merged_df"
   ],
   "metadata": {
    "collapsed": false
   }
  },
  {
   "cell_type": "code",
   "execution_count": 2,
   "outputs": [
    {
     "data": {
      "text/plain": "                     column  \\\n0                   country   \n1                      year   \n2                  iso_code   \n3                population   \n4                       gdp   \n..                      ...   \n124    wind_elec_per_capita   \n125        wind_electricity   \n126  wind_energy_per_capita   \n127         wind_share_elec   \n128       wind_share_energy   \n\n                                           description  \\\n0                                 Geographic location.   \n1                                 Year of observation.   \n2      ISO 3166-1 alpha-3, three-letter country codes.   \n3                      Population by country and year.   \n4    Gross domestic product measured in internation...   \n..                                                 ...   \n124  Per capita electricity generation from wind, m...   \n125  Electricity generation from wind, measured in ...   \n126  Per capita primary energy consumption from win...   \n127  Share of electricity generation that comes fro...   \n128  Share of primary energy consumption that comes...   \n\n                                                source  \n0                                    Our World in Data  \n1                                    Our World in Data  \n2       International Organization for Standardization  \n3    Population based on various sources (2023) [ht...  \n4    Maddison Project Database 2020 (Bolt and van Z...  \n..                                                 ...  \n124  Calculated by Our World in Data based on the E...  \n125  Calculated by Our World in Data based on the E...  \n126  Calculated by Our World in Data based on the E...  \n127  Calculated by Our World in Data based on the E...  \n128  Calculated by Our World in Data based on the E...  \n\n[200 rows x 3 columns]",
      "text/html": "<div>\n<style scoped>\n    .dataframe tbody tr th:only-of-type {\n        vertical-align: middle;\n    }\n\n    .dataframe tbody tr th {\n        vertical-align: top;\n    }\n\n    .dataframe thead th {\n        text-align: right;\n    }\n</style>\n<table border=\"1\" class=\"dataframe\">\n  <thead>\n    <tr style=\"text-align: right;\">\n      <th></th>\n      <th>column</th>\n      <th>description</th>\n      <th>source</th>\n    </tr>\n  </thead>\n  <tbody>\n    <tr>\n      <th>0</th>\n      <td>country</td>\n      <td>Geographic location.</td>\n      <td>Our World in Data</td>\n    </tr>\n    <tr>\n      <th>1</th>\n      <td>year</td>\n      <td>Year of observation.</td>\n      <td>Our World in Data</td>\n    </tr>\n    <tr>\n      <th>2</th>\n      <td>iso_code</td>\n      <td>ISO 3166-1 alpha-3, three-letter country codes.</td>\n      <td>International Organization for Standardization</td>\n    </tr>\n    <tr>\n      <th>3</th>\n      <td>population</td>\n      <td>Population by country and year.</td>\n      <td>Population based on various sources (2023) [ht...</td>\n    </tr>\n    <tr>\n      <th>4</th>\n      <td>gdp</td>\n      <td>Gross domestic product measured in internation...</td>\n      <td>Maddison Project Database 2020 (Bolt and van Z...</td>\n    </tr>\n    <tr>\n      <th>...</th>\n      <td>...</td>\n      <td>...</td>\n      <td>...</td>\n    </tr>\n    <tr>\n      <th>124</th>\n      <td>wind_elec_per_capita</td>\n      <td>Per capita electricity generation from wind, m...</td>\n      <td>Calculated by Our World in Data based on the E...</td>\n    </tr>\n    <tr>\n      <th>125</th>\n      <td>wind_electricity</td>\n      <td>Electricity generation from wind, measured in ...</td>\n      <td>Calculated by Our World in Data based on the E...</td>\n    </tr>\n    <tr>\n      <th>126</th>\n      <td>wind_energy_per_capita</td>\n      <td>Per capita primary energy consumption from win...</td>\n      <td>Calculated by Our World in Data based on the E...</td>\n    </tr>\n    <tr>\n      <th>127</th>\n      <td>wind_share_elec</td>\n      <td>Share of electricity generation that comes fro...</td>\n      <td>Calculated by Our World in Data based on the E...</td>\n    </tr>\n    <tr>\n      <th>128</th>\n      <td>wind_share_energy</td>\n      <td>Share of primary energy consumption that comes...</td>\n      <td>Calculated by Our World in Data based on the E...</td>\n    </tr>\n  </tbody>\n</table>\n<p>200 rows × 3 columns</p>\n</div>"
     },
     "execution_count": 2,
     "metadata": {},
     "output_type": "execute_result"
    }
   ],
   "source": [
    "merged_cb = get_merged_code_books()\n",
    "merged_cb"
   ],
   "metadata": {
    "collapsed": false
   }
  },
  {
   "cell_type": "markdown",
   "source": [],
   "metadata": {
    "collapsed": false
   }
  }
 ],
 "metadata": {
  "kernelspec": {
   "display_name": "Python 3",
   "language": "python",
   "name": "python3"
  },
  "language_info": {
   "codemirror_mode": {
    "name": "ipython",
    "version": 2
   },
   "file_extension": ".py",
   "mimetype": "text/x-python",
   "name": "python",
   "nbconvert_exporter": "python",
   "pygments_lexer": "ipython2",
   "version": "2.7.6"
  }
 },
 "nbformat": 4,
 "nbformat_minor": 0
}
