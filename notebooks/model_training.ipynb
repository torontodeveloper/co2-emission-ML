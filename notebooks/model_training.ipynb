{
 "cells": [
  {
   "cell_type": "code",
   "execution_count": null,
   "id": "ae7f99fe50a9b6f3",
   "metadata": {
    "collapsed": true
   },
   "outputs": [],
   "source": [
    "from src.features.select_features import get_important_features\n",
    "from src.data.get_dataset import get_merged_datasets\n",
    "dataframe = get_merged_datasets()\n",
    "features = get_important_features()\n",
    "\n"
   ]
  },
  {
   "cell_type": "code",
   "execution_count": null,
   "outputs": [],
   "source": [
    "from sklearn.preprocessing import StandardScaler\n",
    "from sklearn.impute import SimpleImputer\n",
    "from sklearn.pipeline import Pipeline\n",
    "from sklearn.model_selection import train_test_split\n",
    "\n",
    "X = dataframe[features]\n",
    "y = dataframe['co2']\n",
    "\n",
    "pipeline = Pipeline(steps=[(\"imputer\", SimpleImputer(strategy=\"median\")), ('std_scalar', StandardScaler())])\n",
    "X_train, y_train, X_test, y_test = train_test_split(X, y, )"
   ],
   "metadata": {
    "collapsed": false
   },
   "id": "initial_id"
  }
 ],
 "metadata": {
  "kernelspec": {
   "display_name": "Python 3",
   "language": "python",
   "name": "python3"
  },
  "language_info": {
   "codemirror_mode": {
    "name": "ipython",
    "version": 2
   },
   "file_extension": ".py",
   "mimetype": "text/x-python",
   "name": "python",
   "nbconvert_exporter": "python",
   "pygments_lexer": "ipython2",
   "version": "2.7.6"
  }
 },
 "nbformat": 4,
 "nbformat_minor": 5
}
