{
 "cells": [
  {
   "cell_type": "markdown",
   "metadata": {
    "collapsed": false,
    "jupyter": {
     "outputs_hidden": false
    },
    "pycharm": {
     "name": "#%% md\n"
    }
   },
   "source": [
    "# Initial data exploration"
   ]
  },
  {
   "cell_type": "code",
   "execution_count": 1,
   "metadata": {
    "collapsed": false,
    "jupyter": {
     "outputs_hidden": false
    },
    "pycharm": {
     "name": "#%%\n"
    }
   },
   "outputs": [],
   "source": [
    "import pandas as pd\n",
    "import sys\n",
    "sys.path.append('..')  # Move one level up in the directory structure\n",
    "from src.data.get_dataset import get_merged_datasets\n",
    "\n",
    "merged_df = get_merged_datasets()"
   ]
  },
  {
   "cell_type": "markdown",
   "metadata": {
    "collapsed": false,
    "jupyter": {
     "outputs_hidden": false
    },
    "pycharm": {
     "name": "#%% md\n"
    }
   },
   "source": [
    "### Focusing on >=2000 & Has ISO CODE & GDP data"
   ]
  },
  {
   "cell_type": "code",
   "execution_count": 4,
   "metadata": {
    "collapsed": false,
    "jupyter": {
     "outputs_hidden": false
    },
    "pycharm": {
     "name": "#%%\n"
    }
   },
   "outputs": [],
   "source": [
    "countries_with_co2_data = merged_df.dropna(subset=['co2' ])"
   ]
  },
  {
   "cell_type": "code",
   "execution_count": 5,
   "metadata": {
    "collapsed": false,
    "jupyter": {
     "outputs_hidden": false
    },
    "pycharm": {
     "name": "#%%\n"
    }
   },
   "outputs": [
    {
     "data": {
      "text/plain": "(2705, 234)"
     },
     "execution_count": 5,
     "metadata": {},
     "output_type": "execute_result"
    }
   ],
   "source": [
    "countries_with_co2_data.shape"
   ]
  },
  {
   "cell_type": "code",
   "execution_count": 6,
   "metadata": {
    "collapsed": false,
    "jupyter": {
     "outputs_hidden": false
    },
    "pycharm": {
     "name": "#%%\n"
    }
   },
   "outputs": [
    {
     "name": "stdout",
     "output_type": "stream",
     "text": [
      "country                                                                                 0\n",
      "year                                                                                    0\n",
      "iso_code                                                                                0\n",
      "population                                                                              0\n",
      "gdp                                                                                     0\n",
      "cement_co2                                                                             73\n",
      "cement_co2_per_capita                                                                  73\n",
      "co2                                                                                     0\n",
      "co2_growth_abs                                                                          0\n",
      "co2_growth_prct                                                                         0\n",
      "co2_including_luc                                                                       0\n",
      "co2_including_luc_growth_abs                                                            0\n",
      "co2_including_luc_growth_prct                                                           0\n",
      "co2_including_luc_per_capita                                                            0\n",
      "co2_including_luc_per_gdp                                                               0\n",
      "co2_including_luc_per_unit_energy                                                       0\n",
      "co2_per_capita                                                                          0\n",
      "co2_per_gdp                                                                             0\n",
      "co2_per_unit_energy                                                                     0\n",
      "coal_co2                                                                                0\n",
      "coal_co2_per_capita                                                                     0\n",
      "consumption_co2                                                                       681\n",
      "consumption_co2_per_capita                                                            681\n",
      "consumption_co2_per_gdp                                                               681\n",
      "cumulative_cement_co2                                                                  73\n",
      "cumulative_co2                                                                          0\n",
      "cumulative_co2_including_luc                                                            0\n",
      "cumulative_coal_co2                                                                     0\n",
      "cumulative_flaring_co2                                                                  0\n",
      "cumulative_gas_co2                                                                      0\n",
      "cumulative_luc_co2                                                                      0\n",
      "cumulative_oil_co2                                                                      0\n",
      "cumulative_other_co2                                                                 1945\n",
      "energy_per_capita                                                                       0\n",
      "energy_per_gdp                                                                          0\n",
      "flaring_co2                                                                             0\n",
      "flaring_co2_per_capita                                                                  0\n",
      "gas_co2                                                                                 0\n",
      "gas_co2_per_capita                                                                      0\n",
      "ghg_excluding_lucf_per_capita                                                           0\n",
      "ghg_per_capita                                                                          0\n",
      "land_use_change_co2                                                                     0\n",
      "land_use_change_co2_per_capita                                                          0\n",
      "methane                                                                                 0\n",
      "methane_per_capita                                                                      0\n",
      "nitrous_oxide                                                                           0\n",
      "nitrous_oxide_per_capita                                                                0\n",
      "oil_co2                                                                                 0\n",
      "oil_co2_per_capita                                                                      0\n",
      "other_co2_per_capita                                                                 1945\n",
      "other_industry_co2                                                                   1945\n",
      "primary_energy_consumption                                                              0\n",
      "share_global_cement_co2                                                                73\n",
      "share_global_co2                                                                        0\n",
      "share_global_co2_including_luc                                                          0\n",
      "share_global_coal_co2                                                                   0\n",
      "share_global_cumulative_cement_co2                                                     73\n",
      "share_global_cumulative_co2                                                             0\n",
      "share_global_cumulative_co2_including_luc                                               0\n",
      "share_global_cumulative_coal_co2                                                        0\n",
      "share_global_cumulative_flaring_co2                                                     0\n",
      "share_global_cumulative_gas_co2                                                         0\n",
      "share_global_cumulative_luc_co2                                                         0\n",
      "share_global_cumulative_oil_co2                                                         0\n",
      "share_global_cumulative_other_co2                                                    1945\n",
      "share_global_flaring_co2                                                                0\n",
      "share_global_gas_co2                                                                    0\n",
      "share_global_luc_co2                                                                    0\n",
      "share_global_oil_co2                                                                    0\n",
      "share_global_other_co2                                                               1945\n",
      "share_of_temperature_change_from_ghg                                                    0\n",
      "temperature_change_from_ch4                                                             0\n",
      "temperature_change_from_co2                                                             0\n",
      "temperature_change_from_ghg                                                             0\n",
      "temperature_change_from_n2o                                                             0\n",
      "total_ghg                                                                               0\n",
      "total_ghg_excluding_lucf                                                                0\n",
      "trade_co2                                                                             681\n",
      "trade_co2_share                                                                       681\n",
      "biofuel_cons_change_pct                                                              2020\n",
      "biofuel_cons_change_twh                                                              1823\n",
      "biofuel_cons_per_capita                                                              1805\n",
      "biofuel_consumption                                                                  1805\n",
      "biofuel_elec_per_capita                                                                19\n",
      "biofuel_electricity                                                                    19\n",
      "biofuel_share_elec                                                                     19\n",
      "biofuel_share_energy                                                                 1832\n",
      "carbon_intensity_elec                                                                   0\n",
      "coal_cons_change_pct                                                                 1459\n",
      "coal_cons_change_twh                                                                 1447\n",
      "coal_cons_per_capita                                                                 1442\n",
      "coal_consumption                                                                     1442\n",
      "coal_elec_per_capita                                                                    0\n",
      "coal_electricity                                                                        0\n",
      "coal_prod_change_pct                                                                 1698\n",
      "coal_prod_change_twh                                                                  229\n",
      "coal_prod_per_capita                                                                  228\n",
      "coal_production                                                                       228\n",
      "coal_share_elec                                                                         0\n",
      "coal_share_energy                                                                    1609\n",
      "electricity_demand                                                                      0\n",
      "electricity_generation                                                                  0\n",
      "electricity_share_energy                                                             1394\n",
      "energy_cons_change_pct                                                                  2\n",
      "energy_cons_change_twh                                                                  2\n",
      "fossil_cons_change_pct                                                               1444\n",
      "fossil_cons_change_twh                                                               1503\n",
      "fossil_elec_per_capita                                                                  0\n",
      "fossil_electricity                                                                      0\n",
      "fossil_energy_per_capita                                                             1495\n",
      "fossil_fuel_consumption                                                              1495\n",
      "fossil_share_elec                                                                       0\n",
      "fossil_share_energy                                                                  1609\n",
      "gas_cons_change_pct                                                                  1451\n",
      "gas_cons_change_twh                                                                  1450\n",
      "gas_consumption                                                                      1447\n",
      "gas_elec_per_capita                                                                     0\n",
      "gas_electricity                                                                         0\n",
      "gas_energy_per_capita                                                                1447\n",
      "gas_prod_change_pct                                                                  1302\n",
      "gas_prod_change_twh                                                                   205\n",
      "gas_prod_per_capita                                                                   204\n",
      "gas_production                                                                        204\n",
      "gas_share_elec                                                                          0\n",
      "gas_share_energy                                                                     1609\n",
      "greenhouse_gas_emissions                                                                0\n",
      "hydro_cons_change_pct                                                                1546\n",
      "hydro_cons_change_twh                                                                1537\n",
      "hydro_consumption                                                                    1536\n",
      "hydro_elec_per_capita                                                                  19\n",
      "hydro_electricity                                                                      19\n",
      "hydro_energy_per_capita                                                              1536\n",
      "hydro_share_elec                                                                       19\n",
      "hydro_share_energy                                                                   1609\n",
      "low_carbon_cons_change_pct                                                           1519\n",
      "low_carbon_cons_change_twh                                                           1537\n",
      "low_carbon_consumption                                                               1536\n",
      "low_carbon_elec_per_capita                                                              0\n",
      "low_carbon_electricity                                                                  0\n",
      "low_carbon_energy_per_capita                                                         1536\n",
      "low_carbon_share_elec                                                                   0\n",
      "low_carbon_share_energy                                                              1609\n",
      "net_elec_imports                                                                        0\n",
      "net_elec_imports_share_demand                                                           0\n",
      "nuclear_cons_change_pct                                                              2220\n",
      "nuclear_cons_change_twh                                                              2112\n",
      "nuclear_consumption                                                                  2101\n",
      "nuclear_elec_per_capita                                                                95\n",
      "nuclear_electricity                                                                    95\n",
      "nuclear_energy_per_capita                                                            2101\n",
      "nuclear_share_elec                                                                     95\n",
      "nuclear_share_energy                                                                 2107\n",
      "oil_cons_change_pct                                                                  1394\n",
      "oil_cons_change_twh                                                                  1394\n",
      "oil_consumption                                                                      1394\n",
      "oil_elec_per_capita                                                                     0\n",
      "oil_electricity                                                                         0\n",
      "oil_energy_per_capita                                                                1394\n",
      "oil_prod_change_pct                                                                  1274\n",
      "oil_prod_change_twh                                                                   211\n",
      "oil_prod_per_capita                                                                   210\n",
      "oil_production                                                                        210\n",
      "oil_share_elec                                                                          0\n",
      "oil_share_energy                                                                     1609\n",
      "other_renewable_consumption                                                          1394\n",
      "other_renewable_electricity                                                             0\n",
      "other_renewable_exc_biofuel_electricity                                                95\n",
      "other_renewables_cons_change_pct                                                     1714\n",
      "other_renewables_cons_change_twh                                                     1394\n",
      "other_renewables_elec_per_capita                                                        0\n",
      "other_renewables_elec_per_capita_exc_biofuel                                           95\n",
      "other_renewables_energy_per_capita                                                   1394\n",
      "other_renewables_share_elec                                                             0\n",
      "other_renewables_share_elec_exc_biofuel                                                95\n",
      "other_renewables_share_energy                                                        1609\n",
      "per_capita_electricity                                                                  0\n",
      "renewables_cons_change_pct                                                           1519\n",
      "renewables_cons_change_twh                                                           1537\n",
      "renewables_consumption                                                               1536\n",
      "renewables_elec_per_capita                                                              0\n",
      "renewables_electricity                                                                  0\n",
      "renewables_energy_per_capita                                                         1536\n",
      "renewables_share_elec                                                                   0\n",
      "renewables_share_energy                                                              1609\n",
      "solar_cons_change_pct                                                                1853\n",
      "solar_cons_change_twh                                                                1407\n",
      "solar_consumption                                                                    1406\n",
      "solar_elec_per_capita                                                                   0\n",
      "solar_electricity                                                                       0\n",
      "solar_energy_per_capita                                                              1406\n",
      "solar_share_elec                                                                        0\n",
      "solar_share_energy                                                                   1621\n",
      "wind_cons_change_pct                                                                 1780\n",
      "wind_cons_change_twh                                                                 1394\n",
      "wind_consumption                                                                     1394\n",
      "wind_elec_per_capita                                                                    0\n",
      "wind_electricity                                                                        0\n",
      "wind_energy_per_capita                                                               1394\n",
      "wind_share_elec                                                                         0\n",
      "wind_share_energy                                                                    1609\n",
      "cropland_area_in_hectares                                                               0\n",
      "agricultural_land_area_in_hectares                                                      0\n",
      "forest_land_area_in_hectares                                                            0\n",
      "median_age                                                                              0\n",
      "time_code                                                                               0\n",
      "population_ages_00-04,_female_(%_of_female_population)_[sp.pop.0004.fe.5y]              0\n",
      "population_ages_00-04,_male_(%_of_male_population)_[sp.pop.0004.ma.5y]                  0\n",
      "population_ages_05-09,_female_(%_of_female_population)_[sp.pop.0509.fe.5y]              0\n",
      "population_ages_05-09,_male_(%_of_male_population)_[sp.pop.0509.ma.5y]                  0\n",
      "population_ages_10-14,_female_(%_of_female_population)_[sp.pop.1014.fe.5y]              0\n",
      "population_ages_10-14,_male_(%_of_male_population)_[sp.pop.1014.ma.5y]                  0\n",
      "population_ages_15-19,_female_(%_of_female_population)_[sp.pop.1519.fe.5y]              0\n",
      "population_ages_15-19,_male_(%_of_male_population)_[sp.pop.1519.ma.5y]                  0\n",
      "population_ages_20-24,_female_(%_of_female_population)_[sp.pop.2024.fe.5y]              0\n",
      "population_ages_20-24,_male_(%_of_male_population)_[sp.pop.2024.ma.5y]                  0\n",
      "population_ages_25-29,_female_(%_of_female_population)_[sp.pop.2529.fe.5y]              0\n",
      "population_ages_25-29,_male_(%_of_male_population)_[sp.pop.2529.ma.5y]                  0\n",
      "population_ages_30-34,_female_(%_of_female_population)_[sp.pop.3034.fe.5y]              0\n",
      "population_ages_30-34,_male_(%_of_male_population)_[sp.pop.3034.ma.5y]                  0\n",
      "population_ages_35-39,_female_(%_of_female_population)_[sp.pop.3539.fe.5y]              0\n",
      "population_ages_35-39,_male_(%_of_male_population)_[sp.pop.3539.ma.5y]                  0\n",
      "population_ages_40-44,_female_(%_of_female_population)_[sp.pop.4044.fe.5y]              0\n",
      "population_ages_40-44,_male_(%_of_male_population)_[sp.pop.4044.ma.5y]                  0\n",
      "population_ages_45-49,_female_(%_of_female_population)_[sp.pop.4549.fe.5y]              0\n",
      "population_ages_45-49,_male_(%_of_male_population)_[sp.pop.4549.ma.5y]                  0\n",
      "population_ages_50-54,_female_(%_of_female_population)_[sp.pop.5054.fe.5y]              0\n",
      "population_ages_50-54,_male_(%_of_male_population)_[sp.pop.5054.ma.5y]                  0\n",
      "population_ages_55-59,_female_(%_of_female_population)_[sp.pop.5559.fe.5y]              0\n",
      "population_ages_55-59,_male_(%_of_male_population)_[sp.pop.5559.ma.5y]                  0\n",
      "population_ages_60-64,_female_(%_of_female_population)_[sp.pop.6064.fe.5y]              0\n",
      "population_ages_60-64,_male_(%_of_male_population)_[sp.pop.6064.ma.5y]                  0\n",
      "population_ages_65_and_above_(%_of_total_population)_[sp.pop.65up.to.zs]                0\n",
      "population_ages_65_and_above,_female_(%_of_female_population)_[sp.pop.65up.fe.zs]       0\n",
      "population_ages_65_and_above,_male_(%_of_male_population)_[sp.pop.65up.ma.zs]           0\n",
      "dtype: int64\n"
     ]
    }
   ],
   "source": [
    "century_21 = countries_with_co2_data [countries_with_co2_data ['year']>=2000]\n",
    "#century_21\n",
    "with pd.option_context('display.max_rows', None):\n",
    "    print(century_21.isnull().sum())"
   ]
  },
  {
   "cell_type": "code",
   "execution_count": 20,
   "outputs": [],
   "source": [
    "century_21.to_csv('country_CO2_and_energy_2000to2018.csv',index=False)"
   ],
   "metadata": {
    "collapsed": false,
    "pycharm": {
     "name": "#%%\n"
    }
   }
  },
  {
   "cell_type": "code",
   "execution_count": 21,
   "outputs": [
    {
     "name": "stdout",
     "output_type": "stream",
     "text": [
      "['year', 'population', 'gdp', 'cement_co2', 'cement_co2_per_capita', 'co2', 'co2_growth_abs', 'co2_growth_prct', 'co2_including_luc', 'co2_including_luc_growth_abs', 'co2_including_luc_growth_prct', 'co2_including_luc_per_capita', 'co2_including_luc_per_gdp', 'co2_including_luc_per_unit_energy', 'co2_per_capita', 'co2_per_gdp', 'co2_per_unit_energy', 'coal_co2', 'coal_co2_per_capita', 'consumption_co2', 'consumption_co2_per_capita', 'consumption_co2_per_gdp', 'cumulative_cement_co2', 'cumulative_co2', 'cumulative_co2_including_luc', 'cumulative_coal_co2', 'cumulative_flaring_co2', 'cumulative_gas_co2', 'cumulative_luc_co2', 'cumulative_oil_co2', 'cumulative_other_co2', 'energy_per_capita', 'energy_per_gdp', 'flaring_co2', 'flaring_co2_per_capita', 'gas_co2', 'gas_co2_per_capita', 'ghg_excluding_lucf_per_capita', 'ghg_per_capita', 'land_use_change_co2', 'land_use_change_co2_per_capita', 'methane', 'methane_per_capita', 'nitrous_oxide', 'nitrous_oxide_per_capita', 'oil_co2', 'oil_co2_per_capita', 'other_co2_per_capita', 'other_industry_co2', 'primary_energy_consumption', 'share_global_cement_co2', 'share_global_co2', 'share_global_co2_including_luc', 'share_global_coal_co2', 'share_global_cumulative_cement_co2', 'share_global_cumulative_co2', 'share_global_cumulative_co2_including_luc', 'share_global_cumulative_coal_co2', 'share_global_cumulative_flaring_co2', 'share_global_cumulative_gas_co2', 'share_global_cumulative_luc_co2', 'share_global_cumulative_oil_co2', 'share_global_cumulative_other_co2', 'share_global_flaring_co2', 'share_global_gas_co2', 'share_global_luc_co2', 'share_global_oil_co2', 'share_global_other_co2', 'share_of_temperature_change_from_ghg', 'temperature_change_from_ch4', 'temperature_change_from_co2', 'temperature_change_from_ghg', 'temperature_change_from_n2o', 'total_ghg', 'total_ghg_excluding_lucf', 'trade_co2', 'trade_co2_share', 'biofuel_cons_change_pct', 'biofuel_cons_change_twh', 'biofuel_cons_per_capita', 'biofuel_consumption', 'biofuel_elec_per_capita', 'biofuel_electricity', 'biofuel_share_elec', 'biofuel_share_energy', 'carbon_intensity_elec', 'coal_cons_change_pct', 'coal_cons_change_twh', 'coal_cons_per_capita', 'coal_consumption', 'coal_elec_per_capita', 'coal_electricity', 'coal_prod_change_pct', 'coal_prod_change_twh', 'coal_prod_per_capita', 'coal_production', 'coal_share_elec', 'coal_share_energy', 'electricity_demand', 'electricity_generation', 'electricity_share_energy', 'energy_cons_change_pct', 'energy_cons_change_twh', 'fossil_cons_change_pct', 'fossil_cons_change_twh', 'fossil_elec_per_capita', 'fossil_electricity', 'fossil_energy_per_capita', 'fossil_fuel_consumption', 'fossil_share_elec', 'fossil_share_energy', 'gas_cons_change_pct', 'gas_cons_change_twh', 'gas_consumption', 'gas_elec_per_capita', 'gas_electricity', 'gas_energy_per_capita', 'gas_prod_change_pct', 'gas_prod_change_twh', 'gas_prod_per_capita', 'gas_production', 'gas_share_elec', 'gas_share_energy', 'greenhouse_gas_emissions', 'hydro_cons_change_pct', 'hydro_cons_change_twh', 'hydro_consumption', 'hydro_elec_per_capita', 'hydro_electricity', 'hydro_energy_per_capita', 'hydro_share_elec', 'hydro_share_energy', 'low_carbon_cons_change_pct', 'low_carbon_cons_change_twh', 'low_carbon_consumption', 'low_carbon_elec_per_capita', 'low_carbon_electricity', 'low_carbon_energy_per_capita', 'low_carbon_share_elec', 'low_carbon_share_energy', 'net_elec_imports', 'net_elec_imports_share_demand', 'nuclear_cons_change_pct', 'nuclear_cons_change_twh', 'nuclear_consumption', 'nuclear_elec_per_capita', 'nuclear_electricity', 'nuclear_energy_per_capita', 'nuclear_share_elec', 'nuclear_share_energy', 'oil_cons_change_pct', 'oil_cons_change_twh', 'oil_consumption', 'oil_elec_per_capita', 'oil_electricity', 'oil_energy_per_capita', 'oil_prod_change_pct', 'oil_prod_change_twh', 'oil_prod_per_capita', 'oil_production', 'oil_share_elec', 'oil_share_energy', 'other_renewable_consumption', 'other_renewable_electricity', 'other_renewable_exc_biofuel_electricity', 'other_renewables_cons_change_pct', 'other_renewables_cons_change_twh', 'other_renewables_elec_per_capita', 'other_renewables_elec_per_capita_exc_biofuel', 'other_renewables_energy_per_capita', 'other_renewables_share_elec', 'other_renewables_share_elec_exc_biofuel', 'other_renewables_share_energy', 'per_capita_electricity', 'renewables_cons_change_pct', 'renewables_cons_change_twh', 'renewables_consumption', 'renewables_elec_per_capita', 'renewables_electricity', 'renewables_energy_per_capita', 'renewables_share_elec', 'renewables_share_energy', 'solar_cons_change_pct', 'solar_cons_change_twh', 'solar_consumption', 'solar_elec_per_capita', 'solar_electricity', 'solar_energy_per_capita', 'solar_share_elec', 'solar_share_energy', 'wind_cons_change_pct', 'wind_cons_change_twh', 'wind_consumption', 'wind_elec_per_capita', 'wind_electricity', 'wind_energy_per_capita', 'wind_share_elec', 'wind_share_energy', 'Cropland Area in hectares', 'Agricultural land Area in hectares', 'Forest land Area in hectares', 'Median age - Sex: all - Age: all - Variant: estimates', 'Median age - Sex: all - Age: all - Variant: medium', 'Population (historical estimates)']\n",
      "['country', 'iso_code']\n"
     ]
    }
   ],
   "source": [
    "# Selecting only numeric columns\n",
    "numeric_cols = century_21.select_dtypes(include=['number']).columns.tolist()\n",
    "non_numeric_cols = century_21.select_dtypes(exclude=[\"number\"]).columns.tolist()\n",
    "print(numeric_cols)\n",
    "print(non_numeric_cols)"
   ],
   "metadata": {
    "collapsed": false,
    "pycharm": {
     "name": "#%%\n"
    }
   }
  },
  {
   "cell_type": "markdown",
   "source": [],
   "metadata": {
    "collapsed": false,
    "pycharm": {
     "name": "#%% md\n"
    }
   }
  },
  {
   "cell_type": "markdown",
   "source": [
    "> Based on our analysis, the only non numeric values are that of country, and year neither of which are viable labels."
   ],
   "metadata": {
    "collapsed": false,
    "pycharm": {
     "name": "#%% md\n"
    }
   }
  },
  {
   "cell_type": "code",
   "execution_count": 22,
   "outputs": [
    {
     "name": "stdout",
     "output_type": "stream",
     "text": [
      "Mean Squared Error: 404.5583256408093\n",
      "Mean Squared Error: 441.62611842152006\n"
     ]
    },
    {
     "name": "stderr",
     "output_type": "stream",
     "text": [
      "C:\\ProgramData\\anaconda3\\envs\\co2-emission-ML\\lib\\site-packages\\sklearn\\impute\\_base.py:558: UserWarning: Skipping features without any observed values: ['Median age - Sex: all - Age: all - Variant: medium']. At least one non-missing value is needed for imputation with strategy='median'.\n",
      "  warnings.warn(\n",
      "C:\\ProgramData\\anaconda3\\envs\\co2-emission-ML\\lib\\site-packages\\sklearn\\impute\\_base.py:558: UserWarning: Skipping features without any observed values: ['Median age - Sex: all - Age: all - Variant: medium']. At least one non-missing value is needed for imputation with strategy='median'.\n",
      "  warnings.warn(\n"
     ]
    }
   ],
   "source": [
    "from sklearn.linear_model import LinearRegression\n",
    "from sklearn.model_selection import train_test_split\n",
    "from sklearn.metrics import mean_squared_error\n",
    "\n",
    "from sklearn.impute import SimpleImputer\n",
    "\n",
    "# Assuming 'century_21' is your DataFrame with missing values\n",
    "\n",
    "# Using only the numeric columns for training\n",
    "X = century_21[numeric_cols]\n",
    "y = century_21['co2']\n",
    "\n",
    "# Splitting the data into training and testing sets (80% train, 20% test)\n",
    "X_train, X_test, y_train, y_test = train_test_split(X, y, test_size=0.2, random_state=42)\n",
    "\n",
    "# Impute missing values with the mean of each column, we want to \n",
    "# impute after our data is split so as to avoid new data bias showing up in training data. \n",
    "imputer = SimpleImputer(strategy='median')\n",
    "X_train= imputer.fit_transform(X_train)\n",
    "X_test = imputer.transform(X_test)\n",
    "\n",
    "# Creating and training the linear regression model\n",
    "model = LinearRegression()\n",
    "model.fit(X_train, y_train)\n",
    "\n",
    "# Making predictions on the test set\n",
    "predictions_train = model.predict(X_train)\n",
    "\n",
    "# Evaluating the model using mean squared error\n",
    "mse = mean_squared_error(y_train, predictions_train)\n",
    "print(f\"Mean Squared Error: {mse}\")\n",
    "\n",
    "# Making predictions on the test set\n",
    "predictions = model.predict(X_test)\n",
    "\n",
    "# Evaluating the model using mean squared error\n",
    "mse = mean_squared_error(y_test, predictions)\n",
    "print(f\"Mean Squared Error: {mse}\")"
   ],
   "metadata": {
    "collapsed": false,
    "pycharm": {
     "name": "#%%\n"
    }
   }
  },
  {
   "cell_type": "markdown",
   "metadata": {
    "pycharm": {
     "name": "#%% md\n"
    }
   },
   "source": [
    "> Based on our analysis, the only non numeric values are that of country, and year neither of which are viable labels."
   ]
  },
  {
   "cell_type": "code",
   "execution_count": 27,
   "metadata": {
    "pycharm": {
     "name": "#%%\n"
    }
   },
   "outputs": [
    {
     "data": {
      "text/plain": "<Figure size 800x600 with 1 Axes>",
      "image/png": "[encoded data removed]"
     },
     "metadata": {},
     "output_type": "display_data"
    }
   ],
   "source": [
    "import matplotlib.pyplot as plt\n",
    "\n",
    "# Plotting predicted vs actual values\n",
    "plt.figure(figsize=(8, 6))\n",
    "plt.scatter(y_test, predictions, alpha=0.5)\n",
    "plt.xlabel('Actual CO2 Values')\n",
    "plt.ylabel('Predicted CO2 Values')\n",
    "plt.title('Predicted vs Actual CO2 Values')\n",
    "plt.show()"
   ]
  },
  {
   "cell_type": "code",
   "execution_count": 29,
   "metadata": {
    "pycharm": {
     "name": "#%%\n"
    }
   },
   "outputs": [
    {
     "name": "stdout",
     "output_type": "stream",
     "text": [
      "gas_prod_change_pct: -1.1275702593849246e-17\n",
      "gdp: 2.8029873222109113e-11\n",
      "Forest land Area in hectares: 9.59891955920611e-08\n",
      "temperature_change_from_co2: -2.4396302680669416e-07\n",
      "Agricultural land Area in hectares: 3.3608118005235e-07\n",
      "Cropland Area in hectares: -7.224853571935475e-07\n",
      "temperature_change_from_n2o: 8.984005372772951e-07\n",
      "temperature_change_from_ch4: -9.965597563519628e-07\n",
      "temperature_change_from_ghg: 4.02534983831108e-06\n",
      "oil_prod_per_capita: 2.0967927680540233e-05\n",
      "gas_energy_per_capita: -3.514738850335375e-05\n",
      "oil_energy_per_capita: -4.493097458024842e-05\n",
      "gas_prod_per_capita: -5.39703043410944e-05\n",
      "fossil_energy_per_capita: 6.664920618327033e-05\n",
      "other_co2_per_capita: -8.073867222205737e-05\n",
      "co2_per_unit_energy: 0.00011968581763921807\n",
      "per_capita_electricity: -0.00014342266320117175\n",
      "flaring_co2_per_capita: -0.00014732410941056424\n",
      "coal_cons_per_capita: -0.00014969143678460195\n",
      "energy_per_capita: 0.0002738160234119144\n",
      "solar_share_energy: 0.00036428381442815493\n",
      "renewables_share_elec: 0.00038662042814812677\n",
      "coal_electricity: -0.0004053532199395672\n",
      "co2_per_gdp: 0.00043148169098597075\n",
      "coal_prod_change_pct: 0.0004492280819284192\n",
      "low_carbon_elec_per_capita: 0.0004580057430338116\n",
      "co2_including_luc_per_unit_energy: 0.000464087570596676\n",
      "hydro_energy_per_capita: 0.00048429360351219877\n",
      "coal_prod_change_twh: 0.0005649942433156724\n",
      "methane_per_capita: 0.0006024726546746564\n",
      "fossil_elec_per_capita: -0.0006027682586808025\n",
      "co2_growth_prct: 0.0006197584663595827\n",
      "share_global_cumulative_luc_co2: 0.0006591145790948499\n",
      "wind_share_energy: 0.0007292008343145592\n",
      "share_global_cumulative_coal_co2: 0.0007627049059938189\n",
      "biofuel_cons_change_twh: -0.0008328548216807584\n",
      "co2_including_luc_growth_prct: -0.0008947538001601169\n",
      "nuclear_cons_change_twh: 0.0009319063567762197\n",
      "share_global_cumulative_co2_including_luc: 0.0009406471036400839\n",
      "wind_share_elec: 0.0009408554416355699\n",
      "nuclear_share_energy: 0.0009674331497789244\n",
      "nuclear_elec_per_capita: -0.0009952831052875031\n",
      "cumulative_luc_co2: 0.0010023991092997023\n",
      "land_use_change_co2_per_capita: 0.0010101047830839926\n",
      "ghg_excluding_lucf_per_capita: 0.0010448458258386967\n",
      "share_global_cumulative_flaring_co2: 0.0010701275542931111\n",
      "share_global_cumulative_gas_co2: 0.0010832778657376783\n",
      "share_global_cumulative_co2: 0.0010913829104054317\n",
      "other_renewables_cons_change_twh: 0.0011016375888577793\n",
      "share_of_temperature_change_from_ghg: 0.0012413648373193133\n",
      "oil_consumption: 0.001244818867234057\n",
      "solar_elec_per_capita: -0.0012619189348482829\n",
      "biofuel_electricity: 0.001334921621540471\n",
      "gas_co2_per_capita: 0.0013552429918886266\n",
      "share_global_cumulative_oil_co2: 0.0013695632497740338\n",
      "electricity_share_energy: -0.0013826670898793685\n",
      "share_global_co2_including_luc: 0.001392245271080197\n",
      "biofuel_cons_change_pct: -0.0013996868975749944\n",
      "biofuel_share_energy: -0.0014276704500093412\n",
      "renewables_elec_per_capita: 0.00145356423731423\n",
      "coal_prod_per_capita: -0.001457587700307461\n",
      "hydro_cons_change_pct: -0.001621538086583869\n",
      "gas_cons_change_pct: -0.0016454382773674085\n",
      "cumulative_co2_including_luc: -0.0017006541928483582\n",
      "coal_co2_per_capita: 0.0017225048643112967\n",
      "consumption_co2_per_gdp: 0.0017649160585123487\n",
      "share_global_oil_co2: 0.0017918458316959732\n",
      "nuclear_cons_change_pct: -0.0018499106091095369\n",
      "fossil_fuel_consumption: -0.0018540608716748203\n",
      "gas_elec_per_capita: -0.0018793134277668051\n",
      "share_global_coal_co2: 0.0019036197832161387\n",
      "gas_production: 0.002032765378628793\n",
      "net_elec_imports: -0.002112828093221664\n",
      "nuclear_consumption: -0.0021555390611535698\n",
      "oil_production: -0.0021875280756020223\n",
      "share_global_other_co2: 0.002273319317494795\n",
      "share_global_co2: 0.0023554892016532667\n",
      "trade_co2: -0.0025548237539709797\n",
      "energy_cons_change_pct: 0.002681470093316639\n",
      "share_global_gas_co2: 0.002704273390038282\n",
      "renewables_energy_per_capita: -0.002728197334963753\n",
      "low_carbon_cons_change_twh: -0.002757988078337527\n",
      "share_global_cumulative_cement_co2: 0.002764041551004859\n",
      "oil_prod_change_pct: -0.0028701375247929158\n",
      "primary_energy_consumption: -0.0030311490825285364\n",
      "low_carbon_energy_per_capita: 0.003134385087423825\n",
      "wind_energy_per_capita: 0.0032087364450434433\n",
      "share_global_cumulative_other_co2: 0.0032114766140437603\n",
      "low_carbon_share_elec: -0.0034327348059189746\n",
      "fossil_share_elec: 0.0034327799217731244\n",
      "nitrous_oxide_per_capita: 0.0036768840755267897\n",
      "renewables_cons_change_twh: -0.0036921698105422127\n",
      "co2_including_luc_growth_abs: 0.0037020130799195264\n",
      "share_global_cement_co2: 0.0038162194063090333\n",
      "hydro_cons_change_twh: 0.003854905787938618\n",
      "other_industry_co2: 0.0038561392375924836\n",
      "nuclear_share_elec: -0.003984543267823993\n",
      "renewables_consumption: -0.004209190659706763\n",
      "hydro_elec_per_capita: -0.0042977534748744935\n",
      "coal_cons_change_pct: -0.004307213989289897\n",
      "cumulative_cement_co2: 0.004312477445980605\n",
      "biofuel_share_elec: -0.004416969281016527\n",
      "oil_cons_change_twh: 0.004645077795848985\n",
      "nuclear_energy_per_capita: -0.004723489560765383\n",
      "coal_cons_change_twh: 0.004899222817915812\n",
      "gas_prod_change_twh: 0.004915439486147333\n",
      "electricity_generation: -0.0053527372131133445\n",
      "other_renewables_energy_per_capita: 0.0054503941591416\n",
      "other_renewables_elec_per_capita: -0.005496054676050365\n",
      "share_global_luc_co2: -0.005523751066138417\n",
      "co2_including_luc_per_gdp: 0.005640814868125536\n",
      "gas_cons_change_twh: 0.0057282936155751895\n",
      "gas_electricity: -0.005966311077485067\n",
      "low_carbon_cons_change_pct: 0.006024991026361834\n",
      "solar_share_elec: -0.006149500250181477\n",
      "low_carbon_consumption: -0.006334856965678957\n",
      "oil_share_elec: 0.006415485905540535\n",
      "oil_electricity: -0.006648418413527264\n",
      "oil_prod_change_twh: 0.007194916409275953\n",
      "oil_elec_per_capita: -0.007249611562987788\n",
      "cumulative_coal_co2: -0.007337414470714891\n",
      "coal_share_elec: 0.007394014548070557\n",
      "electricity_demand: -0.007465565306335364\n",
      "other_renewables_share_energy: 0.00764730772167436\n",
      "low_carbon_electricity: 0.0076673454978392255\n",
      "greenhouse_gas_emissions: -0.007948154298375119\n",
      "energy_per_gdp: 0.008018486105943266\n",
      "solar_cons_change_pct: 0.008056344572030028\n",
      "cumulative_other_co2: -0.008278726031073783\n",
      "net_elec_imports_share_demand: 0.008332159267529334\n",
      "gas_consumption: 0.008455795571683432\n",
      "oil_co2_per_capita: 0.008503817721003544\n",
      "coal_elec_per_capita: 0.008524826299690737\n",
      "cumulative_gas_co2: -0.008678209289514578\n",
      "cumulative_oil_co2: -0.008822224815176073\n",
      "carbon_intensity_elec: -0.008848682750200907\n",
      "other_renewable_exc_biofuel_electricity: 0.009045296439216286\n",
      "total_ghg: -0.009175611066994344\n",
      "other_renewables_cons_change_pct: -0.009205608071058332\n",
      "renewables_cons_change_pct: -0.009287364043098855\n",
      "cumulative_co2: 0.009876313884490204\n",
      "consumption_co2: 0.009956995935045659\n",
      "nuclear_electricity: -0.010044572353311727\n",
      "wind_cons_change_twh: 0.010120092707286527\n",
      "cement_co2: 0.01048214042784284\n",
      "cumulative_flaring_co2: -0.01063134614451514\n",
      "total_ghg_excluding_lucf: 0.010674340436433755\n",
      "wind_cons_change_pct: 0.010727490309400997\n",
      "hydro_electricity: 0.010794660119230597\n",
      "other_renewable_electricity: 0.010889362087613163\n",
      "gas_share_elec: -0.011002590479745581\n",
      "biofuel_cons_per_capita: -0.011460643527461827\n",
      "energy_cons_change_twh: 0.011634552739632847\n",
      "co2_growth_abs: 0.011932919590306566\n",
      "ghg_per_capita: 0.012333529341168785\n",
      "coal_production: 0.012835697530680243\n",
      "fossil_electricity: -0.013020082710954147\n",
      "hydro_consumption: -0.013293296098287543\n",
      "cement_co2_per_capita: -0.013512676575105801\n",
      "gas_share_energy: 0.013760948296051694\n",
      "share_global_flaring_co2: 0.013984998761764234\n",
      "fossil_cons_change_twh: -0.015429366191052958\n",
      "other_renewables_elec_per_capita_exc_biofuel: -0.01576197349773013\n",
      "co2_per_capita: 0.01595979822310715\n",
      "fossil_cons_change_pct: 0.01646019938791339\n",
      "hydro_share_energy: 0.01652992101177967\n",
      "Median age - Sex: all - Age: all - Variant: medium: -0.016573435921411916\n",
      "population: 0.016573524416188902\n",
      "biofuel_consumption: -0.016858655519408516\n",
      "solar_cons_change_twh: -0.0175983861890557\n",
      "co2_including_luc_per_capita: 0.01766327612434384\n",
      "renewables_electricity: 0.01771191785114653\n",
      "wind_electricity: 0.01786986160677387\n",
      "biofuel_elec_per_capita: -0.018217259003272587\n",
      "coal_share_energy: -0.019026740033358185\n",
      "trade_co2_share: -0.019333493808784068\n",
      "consumption_co2_per_capita: -0.019947374521161448\n",
      "oil_cons_change_pct: 0.020014504208070355\n",
      "wind_elec_per_capita: -0.021490236730043723\n",
      "solar_electricity: -0.022374662349687813\n",
      "renewables_share_energy: 0.025789529838987413\n",
      "coal_consumption: -0.02785147605221716\n",
      "other_renewables_share_elec: 0.029829732298450363\n",
      "hydro_share_elec: -0.030988956614572318\n",
      "methane: -0.031623479197811395\n",
      "fossil_share_energy: -0.03337615658379357\n",
      "low_carbon_share_energy: 0.03337622117224647\n",
      "other_renewables_share_elec_exc_biofuel: 0.03347487229648687\n",
      "solar_energy_per_capita: -0.03429130456975097\n",
      "nitrous_oxide: 0.03481568070138401\n",
      "other_renewable_consumption: 0.03511117467707901\n",
      "Median age - Sex: all - Age: all - Variant: estimates: -0.03941773828110227\n",
      "oil_share_energy: -0.04253800827528608\n",
      "flaring_co2: 0.0483292978892333\n",
      "wind_consumption: 0.04994115327038405\n",
      "solar_consumption: -0.05867938985447993\n",
      "gas_co2: 0.11469422321098616\n",
      "year: 0.14030363187949352\n",
      "oil_co2: 0.15550856508842617\n",
      "coal_co2: 0.17956197328066806\n",
      "land_use_change_co2: -0.26574207183952636\n",
      "co2_including_luc: 0.2722263370434333\n",
      "co2: 0.5246906703092111\n"
     ]
    }
   ],
   "source": [
    "predictor_variables = numeric_cols  # Assuming you've defined 'numeric_cols' previously\n",
    "\n",
    "# Get the coefficients for each feature\n",
    "coefficients = model.coef_\n",
    "\n",
    "# Combine predictor variables and their coefficients\n",
    "variable_coefficient = list(zip(predictor_variables, coefficients))\n",
    "\n",
    "# Sort the variables by the absolute value of coefficients in ascending order\n",
    "sorted_vars_coef = sorted(variable_coefficient, key=lambda x: abs(x[1]))\n",
    "\n",
    "# Print the sorted list of predictor variables and their coefficients\n",
    "for var, coef in sorted_vars_coef:\n",
    "    print(f\"{var}: {coef}\")"
   ]
  },
  {
   "cell_type": "code",
   "execution_count": 30,
   "metadata": {
    "pycharm": {
     "name": "#%%\n"
    }
   },
   "outputs": [
    {
     "data": {
      "text/plain": "<Figure size 1000x600 with 1 Axes>",
      "image/png": "[encoded data removed]"
     },
     "metadata": {},
     "output_type": "display_data"
    }
   ],
   "source": [
    "\n",
    "\n",
    "# Assuming you have your actual and predicted values as follows:\n",
    "actual_values = y_test\n",
    "predicted_values = predictions\n",
    "\n",
    "# Calculate residuals\n",
    "residuals = actual_values - predicted_values\n",
    "\n",
    "# Plotting the residuals\n",
    "plt.figure(figsize=(10, 6))\n",
    "plt.scatter(predicted_values, residuals, alpha=0.5)\n",
    "plt.title('Residuals vs Predicted Values')\n",
    "plt.xlabel('Predicted CO2 Values')\n",
    "plt.ylabel('Residuals')\n",
    "plt.axhline(y=0, color='r', linestyle='--')  # Adds a horizontal line at zero\n",
    "plt.show()\n"
   ]
  },
  {
   "cell_type": "code",
   "execution_count": 26,
   "metadata": {
    "pycharm": {
     "name": "#%%\n"
    }
   },
   "outputs": [
    {
     "name": "stdout",
     "output_type": "stream",
     "text": [
      "R-squared: 0.999585325546549\n"
     ]
    }
   ],
   "source": [
    "from sklearn.metrics import r2_score\n",
    "\n",
    "# Assuming 'y_test' contains the actual 'co2' values and 'predictions' contains the predicted values\n",
    "\n",
    "# Calculate R-squared\n",
    "r_squared = r2_score(y_test, predictions)\n",
    "print(f\"R-squared: {r_squared}\")\n"
   ]
  }
 ],
 "metadata": {
  "kernelspec": {
   "display_name": "Python 3 (ipykernel)",
   "language": "python",
   "name": "python3"
  },
  "language_info": {
   "codemirror_mode": {
    "name": "ipython",
    "version": 3
   },
   "file_extension": ".py",
   "mimetype": "text/x-python",
   "name": "python",
   "nbconvert_exporter": "python",
   "pygments_lexer": "ipython3",
   "version": "3.9.7"
  }
 },
 "nbformat": 4,
 "nbformat_minor": 4
}